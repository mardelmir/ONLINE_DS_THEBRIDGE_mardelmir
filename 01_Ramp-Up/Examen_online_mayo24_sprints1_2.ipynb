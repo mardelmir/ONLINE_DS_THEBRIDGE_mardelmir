{
 "cells": [
  {
   "cell_type": "markdown",
   "id": "1f1401c1-4dc9-4902-95bf-160715a42a25",
   "metadata": {},
   "source": [
    "# Prueba de Ramp-up"
   ]
  },
  {
   "cell_type": "markdown",
   "id": "1b34c670-a6dd-482d-9b04-5babee7be17a",
   "metadata": {},
   "source": [
    "Antes de comenzar, cambia el nombre del archivo notebook poniéndole delante tu nombre y primer apellido:\n",
    "\n",
    "* nombre_apellido_examen_online_sprint1_2.ipynb"
   ]
  },
  {
   "cell_type": "code",
   "execution_count": 1,
   "id": "c8d9a657-272c-425a-9ac4-ea59f479673c",
   "metadata": {},
   "outputs": [],
   "source": [
    "# Escribe tu nombre en la variable:\n",
    "nombre_y_apellidos = 'María Delgado Miras' "
   ]
  },
  {
   "cell_type": "code",
   "execution_count": 2,
   "id": "2e9f9af5-076c-44ec-9a80-95c0e99cdc58",
   "metadata": {},
   "outputs": [],
   "source": [
    "'''\n",
    "Criterios de corrección:\n",
    "\n",
    "ejecución (ausencia de errores y obtención de resultados)\n",
    "estructura del código\n",
    "uso correcto de variables\n",
    "manejo de tipo de variables\n",
    "asignaciones\n",
    "operaciones booleanas\n",
    "manejo lógico de flujos de control y bucles\n",
    "uso de colecciones\n",
    "uso de funciones\n",
    "''';\n",
    "\n",
    "# Ejemplo de como queremos ver el código para más de un intento:\n",
    "\n",
    "# Intento 1\n",
    "# your code\n",
    "\n",
    "# Intento 2\n",
    "# your code"
   ]
  },
  {
   "cell_type": "code",
   "execution_count": 3,
   "id": "bb16d0e3-3bb9-4f2b-944e-8fc35e628701",
   "metadata": {},
   "outputs": [],
   "source": [
    "# Crea todas las celdas que necesites"
   ]
  },
  {
   "cell_type": "markdown",
   "id": "9e02b8f5-6f66-4e73-acfa-7f8c3977de2a",
   "metadata": {},
   "source": [
    "#### Notas y pruebas de apoyo para contestar las preguntas\n",
    "\n",
    "\n",
    "Cualquier código aunque no esté correcto nos dirá más de ti que no escribir nada. "
   ]
  },
  {
   "cell_type": "markdown",
   "id": "57d6b062-27f8-4377-b583-d662777b0bd7",
   "metadata": {},
   "source": [
    "__Debes subir tu examen resuelto a tu repo de GitHub cuando haya acabado este team challenge__"
   ]
  },
  {
   "cell_type": "markdown",
   "id": "062d81e8",
   "metadata": {},
   "source": [
    "#### Ejercicio 1\n",
    "\n",
    "Disponemos de una lista con información sobre varios empleados:\n",
    "\n",
    "    empleados = [[12345, \"Juan Rodríguez\", 53, [\"Director financiero\"], 2],[56789, \"Laura Pérez\", 41, [\"CEO\", \"Director\", \"Gerente\"], 2],[88354, \"Pedro Álvarez\", 26, [\"Asistente\",\"Gestor comercial\"], 3]]\n",
    "\n",
    "Respecto de cada empleado, la lista contiene cinco elementos: en el primero almacenamos su tfno, en el segundo su nombre, en el tercero su edad, en el cuarto los puestos que ha desempeñado en la empresa (en forma de lista) y en el quinto su código postal.\n",
    "\n",
    "1. Siguiendo la misma estructura, incluye un nuevo empleado en la última posición de la lista empleados.\n",
    "\n",
    "2. Mostrar por pantalla, sin uso de funciones (salvo print) ni bucles: \n",
    "\n",
    "    - El nombre y la edad del tercer empleado de la lista empleados.\n",
    "    - Los puestos desempeñados por Pedro Álvarez, ordenados de atras a adelante (es decir, de Gestor comercial a Asistente)\n",
    "    - Si el nuevo empleado que has añadido tiene más o igual a 60 años, muestra por pantalla los puestos que el nuevo empleado haya desempeñado en la empresa. En caso contrario, muestra los puestos desempeñados por Laura Pérez y Juan Rodriguez."
   ]
  },
  {
   "cell_type": "code",
   "execution_count": 10,
   "id": "661a4e91",
   "metadata": {},
   "outputs": [
    {
     "data": {
      "text/plain": [
       "[[12345, 'Juan Rodríguez', 53, ['Director financiero'], 2],\n",
       " [56789, 'Laura Pérez', 41, ['CEO', 'Director', 'Gerente'], 2],\n",
       " [88354, 'Pedro Álvarez', 26, ['Asistente', 'Gestor comercial'], 3],\n",
       " [1234, 'Marina Gómez', 22, ['Asistente'], 1]]"
      ]
     },
     "execution_count": 10,
     "metadata": {},
     "output_type": "execute_result"
    }
   ],
   "source": [
    "empleados = [\n",
    "    [12345, 'Juan Rodríguez', 53, ['Director financiero'], 2],\n",
    "    [56789, 'Laura Pérez', 41, ['CEO', 'Director', 'Gerente'], 2],\n",
    "    [88354, 'Pedro Álvarez', 26, ['Asistente','Gestor comercial'], 3]\n",
    "    ]\n",
    "\n",
    "# Nuevo empleado\n",
    "nuevo_empleado = [1234, 'Marina Gómez', 22, ['Asistente'], 1]\n",
    "empleados.append(nuevo_empleado)\n",
    "\n",
    "empleados"
   ]
  },
  {
   "cell_type": "code",
   "execution_count": 11,
   "id": "7206a984",
   "metadata": {},
   "outputs": [
    {
     "name": "stdout",
     "output_type": "stream",
     "text": [
      "Nombre: Pedro Álvarez, edad: 26 años\n",
      "Puestos de Pedro Álvarez invertidos ['Gestor comercial', 'Asistente']\n",
      "Puestos desempeñados por Juan Rodriguez ['CEO', 'Director', 'Gerente']\n",
      "Puestos desempeñados por Laura Pérez ['Director financiero']\n"
     ]
    }
   ],
   "source": [
    "# Nombre y edad del tercer empleado\n",
    "print(f'Nombre: {empleados[2][1]}, edad: {empleados[2][2]} años')\n",
    "\n",
    "# Puestos desempeñados por Pedro Álvarez, ordenados de atrás a adelante (es decir, de Gestor comercial a Asistente)\n",
    "pedro = empleados[2][3]\n",
    "pedro.sort(reverse = True)\n",
    "print('Puestos de Pedro Álvarez invertidos', pedro)\n",
    "\n",
    "# Si el nuevo empleado que has añadido tiene más o igual a 60 años, muestra por pantalla los puestos que el nuevo empleado haya desempeñado en la empresa. En caso contrario, muestra los puestos desempeñados por Laura Pérez y Juan Rodriguez.\n",
    "\n",
    "if empleados[-1][2] >= 60:\n",
    "    print(f'Puestos desempeñados por {empleados[-1][1]}{empleados[-1][3]}')\n",
    "else:\n",
    "    puestos_Laura = empleados[0][3]\n",
    "    puestos_Juan = empleados[1][3]\n",
    "    print('Puestos desempeñados por Juan Rodriguez', puestos_Juan)\n",
    "    print('Puestos desempeñados por Laura Pérez', puestos_Laura)\n"
   ]
  },
  {
   "cell_type": "markdown",
   "id": "4da89624-0da3-4f91-aa5c-a084c5ee1b17",
   "metadata": {},
   "source": [
    "#### Ejercicio 2. \n",
    "\n",
    "Escribe un programa que te diga si una letra es una consonante o una vocal. Crea tu propia **FUNCIÓN**\n"
   ]
  },
  {
   "cell_type": "code",
   "execution_count": 24,
   "id": "2767c510",
   "metadata": {},
   "outputs": [
    {
     "name": "stdout",
     "output_type": "stream",
     "text": [
      "La letra i es una vocal.\n",
      "La letra á es una vocal.\n",
      "La letra j es una consonante.\n"
     ]
    }
   ],
   "source": [
    "def identificador_letra(letra):\n",
    "    letra_preparada = letra.replace('á', 'a').replace('é', 'e').replace('í', 'i').replace('ó', 'o').replace('ú', 'u')\n",
    "    vocales = 'aeiou'\n",
    "    \n",
    "    if letra_preparada in vocales:\n",
    "        return f'La letra {letra} es una vocal.'\n",
    "    else:\n",
    "        return f'La letra {letra} es una consonante.'\n",
    "        \n",
    "print(identificador_letra('i'))\n",
    "print(identificador_letra('á'))\n",
    "print(identificador_letra('j'))"
   ]
  },
  {
   "cell_type": "markdown",
   "id": "52065a6c-3d4c-44c0-a10b-958506c481b3",
   "metadata": {},
   "source": [
    "#### Ejercicio 3. \n",
    "\n",
    "Escribe un programa que calcule la edad humana de un perro.\n",
    "Tienes que pedirle al usuario la edad del perro en años.\n",
    "Si el usuario introduce un número negativo, imprime que la cifra facilitada no tiene sentido. Si el perro tiene un año, son 14 años humanos. Si tiene 2 años, son 22 años humanos.\n",
    "A partir de los 2 años, el cálculo es el siguiente: a la edad del perro se le restan 2 años, el resultado se multiplica por 5 y, finalmente, se le suma 22.\n",
    "Usa una función sin argumentos de entrada ni de salida (muestra toda la información con print())"
   ]
  },
  {
   "cell_type": "code",
   "execution_count": 71,
   "id": "980abb03",
   "metadata": {},
   "outputs": [
    {
     "name": "stdout",
     "output_type": "stream",
     "text": [
      "12 años en un perro equivalen a 72 años en un humano.\n"
     ]
    }
   ],
   "source": [
    "def conversor_edad():\n",
    "    edad_perro = int(input('Introduzca su edad:'))\n",
    "    edad_humana = 0\n",
    "    \n",
    "    if edad_perro < 0:\n",
    "        print('La edad indicada no tiene sentido.')\n",
    "\n",
    "    if edad_perro == 1:\n",
    "        edad_humana = 14\n",
    "        print(f'{edad_perro} año en un perro equivale a {edad_humana} años en un humano.')\n",
    "    elif edad_perro == 2:\n",
    "        edad_humana = 22\n",
    "        print(f'{edad_perro} años en un perro equivalen a {edad_humana} años en un humano.')\n",
    "    else:\n",
    "        edad_humana = ((edad_perro - 2) * 5) + 22\n",
    "        print(f'{edad_perro} años en un perro equivalen a {edad_humana} años en un humano.')\n",
    "\n",
    "conversor_edad()"
   ]
  },
  {
   "cell_type": "markdown",
   "id": "2991309f-4208-431a-900c-d9bc734bb936",
   "metadata": {},
   "source": [
    "#### Ejercicio 4. \n",
    "\n",
    "Escribe un programa que te diga si una frase es un pangrama. Un pangrama es una frase que contiene todas las letras del alfabeto.\n",
    "Puedes tener espacios en blanco, pero NO  tendrás signos de puntuación, a excepción de las tildes.\n",
    "\n",
    "Ejemplo de pangrama:\n",
    "\n",
    "Extraño pan de col y kiwi se quemó bajo fugaz vaho "
   ]
  },
  {
   "cell_type": "code",
   "execution_count": 116,
   "id": "c5ac7a9b",
   "metadata": {},
   "outputs": [
    {
     "data": {
      "text/plain": [
       "True"
      ]
     },
     "execution_count": 116,
     "metadata": {},
     "output_type": "execute_result"
    }
   ],
   "source": [
    "def pangrama(string):\n",
    "    texto = string.lower().replace(' ', '').replace('á', 'a').replace('é', 'e').replace('í', 'i').replace('ó', 'o').replace('ú', 'u')\n",
    "    diccionario_alfabeto = {e: 0 for e in 'abcdefghijklmnñopqrstuvwxyz'}\n",
    "    \n",
    "    for l in texto:\n",
    "        for key, value in diccionario_alfabeto.items():\n",
    "            if key == l:\n",
    "                diccionario_alfabeto[key] = value + 1\n",
    "\n",
    "    suma = sum(list(diccionario_alfabeto.values()))\n",
    "    if suma >= len(list(diccionario_alfabeto.keys())):\n",
    "        return True\n",
    "    else:\n",
    "        return False\n",
    "    \n",
    "pangrama('hóla caracola')\n",
    "pangrama('Extraño pan de col y kiwi se quemó bajo fugaz vaho ')\n",
    "pangrama('Éxtraño pan dé col y kiwi sé quemó bajo fugaz vaho ')\n",
    "pangrama('Éxtraño pan dé col Y KIWI sé quemó bajo fugaz vaho ')"
   ]
  },
  {
   "cell_type": "markdown",
   "id": "3dbb76e0-79b2-45e8-9034-58ee9cbd82bb",
   "metadata": {},
   "source": [
    "#### Ejercicio 5. \n",
    "\n",
    "Escribe un programa que use diccionarios para traducir palabras entre varios idiomas.\n",
    "Deberás pedirle al usuario una palabra por teclado, ver si está en tu diccionario. En caso de que esté, deberás mostrar la traducción de esa palabra.\n",
    "\n",
    "Ejemplo de diccionario:\n",
    "\n",
    "```python\n",
    "{\"file\": \"Fichier\", \"new\": \"Nouveau\", \"open\": \"Ouvrir\", \"save\": \"Enregistrer\", \"save as\": \"Enregistrer sous\", \"print preview\": \"Apercu avant impressioner\", \"print\": \"Imprimer\", \"close\": \"Fermer\", \"exit\": \"Quitter\"}"
   ]
  },
  {
   "cell_type": "code",
   "execution_count": 14,
   "id": "6e7727ca",
   "metadata": {},
   "outputs": [
    {
     "name": "stdout",
     "output_type": "stream",
     "text": [
      "La traducción de close es Fermer.\n"
     ]
    }
   ],
   "source": [
    "diccionario = {\n",
    "        'file': 'Fichier', \n",
    "        'new': 'Nouveau', \n",
    "        'open': 'Ouvrir', \n",
    "        'save': 'Enregistrer', \n",
    "        'save as': 'Enregistrer sous', \n",
    "        'print preview': 'Apercu avant impressioner', \n",
    "        'print': 'Imprimer', \n",
    "        'close': 'Fermer', \n",
    "        'exit': 'Quitter'}\n",
    "\n",
    "palabra = input('Escriba una palabra').lower().replace(' ', '')\n",
    "traduccion = ''\n",
    "\n",
    "for key, value in diccionario.items():\n",
    "    if palabra == key:\n",
    "        traduccion = value\n",
    "\n",
    "if len(traduccion) > 0:\n",
    "    print(f'La traducción de {palabra} es {traduccion}.')\n",
    "else:\n",
    "    print(f'La palabra {palabra} no está en el diccionario.')"
   ]
  },
  {
   "cell_type": "code",
   "execution_count": 21,
   "id": "88236123-e8ac-45da-87d0-134a88a690c1",
   "metadata": {},
   "outputs": [
    {
     "name": "stdout",
     "output_type": "stream",
     "text": [
      "La palabra hola no está en el diccionario.\n"
     ]
    }
   ],
   "source": [
    "def traductor(diccionario):\n",
    "    try:\n",
    "        palabra = input('Escriba una palabra').lower().replace(' ', '')\n",
    "        traduccion = ''\n",
    "        for key, value in diccionario.items():\n",
    "            if palabra == key:\n",
    "                traduccion = value\n",
    "                \n",
    "        if len(traduccion) > 0:\n",
    "            print(f'La traducción de {palabra} es {traduccion}.')\n",
    "        else:\n",
    "            print(f'La palabra {palabra} no está en el diccionario.')\n",
    "    except AttributeError:\n",
    "        print('Error: formato de diccionario inválido')\n",
    "        \n",
    "traductor(diccionario)"
   ]
  },
  {
   "cell_type": "code",
   "execution_count": 20,
   "id": "5647c1f9",
   "metadata": {},
   "outputs": [
    {
     "name": "stdout",
     "output_type": "stream",
     "text": [
      "Error: formato de diccionario inválido\n"
     ]
    }
   ],
   "source": [
    "test = [1,2,3]\n",
    "traductor(test)"
   ]
  },
  {
   "cell_type": "markdown",
   "id": "61967ca4-7e06-44b3-ad7b-adbc0e71671a",
   "metadata": {},
   "source": [
    "#### Ejercicio 6.\n",
    "\n",
    "Usando objetos modela un theremin (es un instrumento musical que se toca modificando el campo electromagnético, por si tenías curiosidad).\n",
    "Tendrá de atributos la marca, el modelo, el peso, la potencia y la batería.\n",
    "\n",
    "Todos los instrumentos se crean con un peso predeterminado de 500, una potencia de 50 y una batería de 200.\n",
    "\n",
    "Cuando se recarga la batería vale 200.\n",
    "\n",
    "Cuando se toca, se muestra por pantalla que está sonando y la batería disminuye 10 (no siendo nunca negativo).\n",
    "Si no hay batería, no puede sonar. Crea un instrumento, tócalo mientras quede batería, cárgalo y no lo vuelvas a tocar.\n"
   ]
  },
  {
   "cell_type": "code",
   "execution_count": 149,
   "id": "8c15155d",
   "metadata": {},
   "outputs": [],
   "source": [
    "class Theremin:\n",
    "    def __init__(self, marca, modelo, peso = 500, potencia = 50, bateria = 200):\n",
    "        self.marca = str(marca)\n",
    "        self.modelo = str(modelo)\n",
    "        self.peso = peso\n",
    "        self.potencia = potencia\n",
    "        self.bateria = bateria\n",
    "    \n",
    "    def recargar(self):\n",
    "        self.bateria = 200\n",
    "        print('Batería llena.')\n",
    "        \n",
    "    def tocar(self):\n",
    "        while self.bateria > 0:\n",
    "            print(f'El theremin modelo {self.modelo} está tocando.')\n",
    "            self.bateria -= 10\n",
    "        print(f'El theremin modelo {self.modelo} no tiene batería.')\n",
    "    "
   ]
  },
  {
   "cell_type": "code",
   "execution_count": 150,
   "id": "4285b67b",
   "metadata": {},
   "outputs": [
    {
     "name": "stdout",
     "output_type": "stream",
     "text": [
      "Marca: ThereMin\n",
      "Modelo: Therem1200\n",
      "Peso: 500\n",
      "Potencia: 50\n",
      "Batería: 200\n"
     ]
    }
   ],
   "source": [
    "instrumento = Theremin('ThereMin', 'Therem1200')\n",
    "\n",
    "print('Marca:', instrumento.marca)\n",
    "print('Modelo:', instrumento.modelo)\n",
    "print('Peso:', instrumento.peso)\n",
    "print('Potencia:', instrumento.potencia)\n",
    "print('Batería:', instrumento.bateria)"
   ]
  },
  {
   "cell_type": "code",
   "execution_count": 152,
   "id": "8082c8cd-03a9-478e-aa72-4ec1306e1bb2",
   "metadata": {},
   "outputs": [
    {
     "name": "stdout",
     "output_type": "stream",
     "text": [
      "El theremin modelo Therem1200 está tocando.\n",
      "El theremin modelo Therem1200 está tocando.\n",
      "El theremin modelo Therem1200 está tocando.\n",
      "El theremin modelo Therem1200 está tocando.\n",
      "El theremin modelo Therem1200 está tocando.\n",
      "El theremin modelo Therem1200 está tocando.\n",
      "El theremin modelo Therem1200 está tocando.\n",
      "El theremin modelo Therem1200 está tocando.\n",
      "El theremin modelo Therem1200 está tocando.\n",
      "El theremin modelo Therem1200 está tocando.\n",
      "El theremin modelo Therem1200 está tocando.\n",
      "El theremin modelo Therem1200 está tocando.\n",
      "El theremin modelo Therem1200 está tocando.\n",
      "El theremin modelo Therem1200 está tocando.\n",
      "El theremin modelo Therem1200 está tocando.\n",
      "El theremin modelo Therem1200 está tocando.\n",
      "El theremin modelo Therem1200 está tocando.\n",
      "El theremin modelo Therem1200 está tocando.\n",
      "El theremin modelo Therem1200 está tocando.\n",
      "El theremin modelo Therem1200 está tocando.\n",
      "El theremin modelo Therem1200 no tiene batería.\n",
      "Batería llena.\n"
     ]
    }
   ],
   "source": [
    "instrumento.tocar()\n",
    "instrumento.recargar()"
   ]
  },
  {
   "cell_type": "markdown",
   "id": "30f773b5-a6da-4446-b36b-722b2ee57730",
   "metadata": {},
   "source": [
    "#### Ejercicio 7 EXTRA, NO PUNTÚA\n",
    "Una empresa usa dos listas  para guardar la información de sus empleados. Una lista guarda el nombre del empleado y la otra guarda su salario. Escribe un programa que cree esas dos listas originalmente vacías y que a través de un menú pueda hacer lo siguiente:\n",
    "    \n",
    "Inserta 1 para añadir un nuevo empleado y su salario\n",
    "\n",
    "Inserta 2 para imprimir los nombres y salarios de todos los empleados\n",
    "\n",
    "Inserta 3 para mostrar el número de empleados\n",
    "\n",
    "Inserta 4 para imprimir los nombres de los empleados con sueldos superiores a 400000\n",
    "\n",
    "Inserta 5 para subir un 5% los sueldos por debajo de 10000\n",
    "\n",
    "Inserta 6 para mostrar el total de todos los salarios\n",
    "\n",
    "Inserta 7 para salir del programa"
   ]
  },
  {
   "cell_type": "code",
   "execution_count": 75,
   "id": "9a31152d",
   "metadata": {},
   "outputs": [],
   "source": [
    "lista_nombre = []\n",
    "lista_salario = []"
   ]
  },
  {
   "cell_type": "code",
   "execution_count": 80,
   "id": "84f020d7",
   "metadata": {},
   "outputs": [
    {
     "name": "stdout",
     "output_type": "stream",
     "text": [
      "\n",
      "¡Bienvenido!\n",
      "\n",
      "Inserta 1 para añadir un nuevo empleado y su salario\n",
      "Inserta 2 para imprimir los nombres y salarios de todos los empleados\n",
      "Inserta 3 para mostrar el número de empleados\n",
      "Inserta 4 para imprimir los nombres de los empleados con sueldos superiores a 400000\n",
      "Inserta 5 para subir un 5% los sueldos por debajo de 10000\n",
      "Inserta 6 para mostrar el total de todos los salarios\n",
      "Inserta 7 para salir del programa\n",
      "\n",
      "\n",
      "Sara Sartén: 23000.0€\n",
      "Teresa Tarta: 50000.0€\n",
      "Amancio Ortega: 1000000.0€\n",
      "Cristina Aguilera: 500000.0€\n",
      "Moreno Morenillo: 525.0€\n",
      "\n",
      "¡Gracias por usar el programa!\n"
     ]
    }
   ],
   "source": [
    "def seleccion():\n",
    "    return int(input('Inserta un número del 1 al 7 para realizar una acción:'))\n",
    "    \n",
    "print('''\n",
    "¡Bienvenido!\n",
    "\n",
    "Inserta 1 para añadir un nuevo empleado y su salario\n",
    "Inserta 2 para imprimir los nombres y salarios de todos los empleados\n",
    "Inserta 3 para mostrar el número de empleados\n",
    "Inserta 4 para imprimir los nombres de los empleados con sueldos superiores a 400000\n",
    "Inserta 5 para subir un 5% los sueldos por debajo de 10000\n",
    "Inserta 6 para mostrar el total de todos los salarios\n",
    "Inserta 7 para salir del programa\n",
    "\n",
    "''')\n",
    "\n",
    "\n",
    "while True:\n",
    "    n = seleccion()\n",
    "    dicc_empleados = dict(zip(lista_nombre, lista_salario))\n",
    "    \n",
    "    if n == 1:\n",
    "        nuevo_nombre = input('Introduce el nombre del nuevo empleado:')\n",
    "        nuevo_salario = float(input('Introduce el salario del nuevo empleado:'))\n",
    "        lista_nombre.append(nuevo_nombre)\n",
    "        lista_salario.append(nuevo_salario)\n",
    "\n",
    "    elif n == 2:\n",
    "        if len(lista_nombre) != 0:\n",
    "            for nombre, salario in dicc_empleados.items():\n",
    "                print(f'{nombre}: {salario}€')\n",
    "        else:\n",
    "            print('No hay empleados registrados')\n",
    "                   \n",
    "    elif n == 3:\n",
    "        print('Número de empleados:', len(lista_nombre))\n",
    "\n",
    "    elif n == 4:\n",
    "        for nombre, salario in dicc_empleados.items():\n",
    "            if salario > 400000:\n",
    "                print(f'{nombre}: {salario}€')\n",
    "\n",
    "    elif n == 5:\n",
    "        for i, salario in enumerate(lista_salario):\n",
    "            if salario < 10000:\n",
    "                lista_salario[i] = salario * 1.05\n",
    "\n",
    "    elif n == 6:\n",
    "        print(f'Suma de todos los sueldos: {sum(lista_salario)}€.')\n",
    "\n",
    "    elif n == 7:\n",
    "        break\n",
    "    \n",
    "    else:\n",
    "        print('El número introducido no se corresponde con ninguna acción')\n",
    "\n",
    "print('\\n¡Gracias por usar el programa!')\n",
    "    "
   ]
  },
  {
   "cell_type": "markdown",
   "id": "e33a0e21-476e-4103-b889-a6b3e76b99f3",
   "metadata": {},
   "source": [
    "\n",
    "####  Ejercicio 8, EXTRA, NO PUNTÚA.\n",
    "\n",
    "Escribe un programa que __USE RECURSIVIDAD__ para decidir cuál es la película de Pixar favorita de un usuario.\n",
    "El programa preguntará al usuario cuál de 2 películas es su favorita, y con esa favorita se le volverá a preguntar entre esa y otra película cuál es su favorita...y así hasta que el usuario haya decidido de entre todas cuál es su favorita.\n",
    "\n",
    "Pista: si no quieres cambiar una lista, usa copy() y tendrás una copia que es otro objeto\n",
    "\n"
   ]
  },
  {
   "cell_type": "code",
   "execution_count": 123,
   "id": "db96e0a7",
   "metadata": {},
   "outputs": [],
   "source": [
    "peliculas = ['Toy Story', 'Soul', 'Up', 'Coco', 'Luca', 'Monsters', 'Inside Out', 'Wall-E', 'Buscando a Nemo', 'Los Increíbles']"
   ]
  },
  {
   "cell_type": "code",
   "execution_count": 124,
   "id": "6854be3a",
   "metadata": {},
   "outputs": [],
   "source": [
    "def pelicula_favorita(peliculas):\n",
    "    if len(peliculas) > 1:\n",
    "        msg = f'Si prefieres {peliculas[0]} 1, si prefieres {peliculas[1]} marca 2:'\n",
    "        print(msg, end = ' ')\n",
    "        n = int(input(msg)) - 1\n",
    "        print(n + 1)\n",
    "        print(f'Prefieres {peliculas[n]}')\n",
    "    \n",
    "        peliculas_copy = peliculas[:]\n",
    "        if n == 0:\n",
    "            peliculas_copy.remove(peliculas[1])\n",
    "        else:\n",
    "            peliculas_copy.remove(peliculas_copy[0])\n",
    "        \n",
    "        pelicula_favorita(peliculas_copy)\n",
    "        \n",
    "    else:\n",
    "        print(f'\\nPrefieres finalmente {peliculas[0]}')"
   ]
  },
  {
   "cell_type": "code",
   "execution_count": 125,
   "id": "a6f4f6a3",
   "metadata": {},
   "outputs": [
    {
     "name": "stdout",
     "output_type": "stream",
     "text": [
      "Si prefieres Toy Story 1, si prefieres Soul marca 2: 1\n",
      "Prefieres Toy Story\n",
      "Si prefieres Toy Story 1, si prefieres Up marca 2: 2\n",
      "Prefieres Up\n",
      "Si prefieres Up 1, si prefieres Coco marca 2: 1\n",
      "Prefieres Up\n",
      "Si prefieres Up 1, si prefieres Luca marca 2: 2\n",
      "Prefieres Luca\n",
      "Si prefieres Luca 1, si prefieres Monsters marca 2: 1\n",
      "Prefieres Luca\n",
      "Si prefieres Luca 1, si prefieres Inside Out marca 2: 2\n",
      "Prefieres Inside Out\n",
      "Si prefieres Inside Out 1, si prefieres Wall-E marca 2: 1\n",
      "Prefieres Inside Out\n",
      "Si prefieres Inside Out 1, si prefieres Buscando a Nemo marca 2: 2\n",
      "Prefieres Buscando a Nemo\n",
      "Si prefieres Buscando a Nemo 1, si prefieres Los Increíbles marca 2: 1\n",
      "Prefieres Buscando a Nemo\n",
      "\n",
      "Prefieres finalmente Buscando a Nemo\n"
     ]
    }
   ],
   "source": [
    "pelicula_favorita(peliculas)"
   ]
  },
  {
   "cell_type": "code",
   "execution_count": 12,
   "id": "c9936fd4-6d29-4535-9f34-a6f289d18d8b",
   "metadata": {},
   "outputs": [
    {
     "name": "stdout",
     "output_type": "stream",
     "text": [
      "Si prefieres Toy Story marca 1, si prefieres Soul marca 2: 1\n",
      "Prefieres Toy Story\n",
      "Si prefieres Toy Story marca 1, si prefieres Up marca 2: 2\n",
      "Prefieres Up\n",
      "Si prefieres Up marca 1, si prefieres Coco marca 2: 2\n",
      "Prefieres Coco\n",
      "Si prefieres Coco marca 1, si prefieres Luca marca 2: 1\n",
      "Prefieres Coco\n",
      "Si prefieres Coco marca 1, si prefieres Monsters marca 2: 2\n",
      "Prefieres Monsters\n",
      "Si prefieres Monsters marca 1, si prefieres Inside Out marca 2: 1\n",
      "Prefieres Monsters\n",
      "Si prefieres Monsters marca 1, si prefieres WallE marca 2: 2\n",
      "Prefieres WallE\n",
      "Si prefieres WallE marca 1, si prefieres Buscando a Nemo marca 2: 2\n",
      "Prefieres Buscando a Nemo\n",
      "Si prefieres Buscando a Nemo marca 1, si prefieres Los increíbles marca 2: 1\n",
      "Prefieres Buscando a Nemo\n",
      "\n",
      "Prefieres finalmente Buscando a Nemo\n"
     ]
    }
   ],
   "source": [
    "     "
   ]
  },
  {
   "cell_type": "code",
   "execution_count": 5,
   "id": "10a7b881",
   "metadata": {},
   "outputs": [],
   "source": [
    "# FIN DEL EXAMEN"
   ]
  }
 ],
 "metadata": {
  "kernelspec": {
   "display_name": "Python 3 (ipykernel)",
   "language": "python",
   "name": "python3"
  },
  "language_info": {
   "codemirror_mode": {
    "name": "ipython",
    "version": 3
   },
   "file_extension": ".py",
   "mimetype": "text/x-python",
   "name": "python",
   "nbconvert_exporter": "python",
   "pygments_lexer": "ipython3",
   "version": "3.12.3"
  },
  "vscode": {
   "interpreter": {
    "hash": "252189e587d1e2aeba4a06e91fa71896c7a7f6e22e918b9407c7cde4ef2d5985"
   }
  }
 },
 "nbformat": 4,
 "nbformat_minor": 5
}
