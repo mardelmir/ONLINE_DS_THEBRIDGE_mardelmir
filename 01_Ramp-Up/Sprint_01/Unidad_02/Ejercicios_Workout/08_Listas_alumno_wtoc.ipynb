{
 "cells": [
  {
   "cell_type": "markdown",
   "metadata": {},
   "source": [
    "<img src = \"./img/TheBridge_logo_RGB_color.jpg\" width = 500>\n",
    "<img src = \"./img/python.jpg\" width = 500>"
   ]
  },
  {
   "cell_type": "markdown",
   "metadata": {},
   "source": [
    "# Python Basics I"
   ]
  },
  {
   "cell_type": "markdown",
   "metadata": {},
   "source": [
    "## Contenidos"
   ]
  },
  {
   "cell_type": "markdown",
   "metadata": {},
   "source": [
    "* [Listas](#Listas)\n",
    "\n",
    "* [Métodos en Listas](#Metodos-en-Listas)\n",
    "\n"
   ]
  },
  {
   "cell_type": "markdown",
   "metadata": {},
   "source": [
    "## Listas\n",
    "[Índice](#Contenidos)  \n",
    "\n",
    "Se trata de otro de los tipos de datos de Python más usados. Dentro de las colecciones, que veremos más adelante, la lista es la colección que normalmente se le da más uso. **Nos permiten almacenar conjuntos de variables u objetos**, y son elementos de lo más versátiles puesto que podemos almacenar objetos de distintos tipos, modificarlos, eliminarlos, meter listas dentro de listas... Sus dos caractrísticas principales son:\n",
    "* **Mutables**: una vez se ha creado la lista, se puede modificar\n",
    "* **Ordenada**: Los elementos tienen un cierto orden, lo que nos permite acceder al elemento que queramos teniendo en cuenta tal orden\n",
    "\n",
    "En cuanto a su sintaxis, cuando declaremos la lista simplemente hay que separar cada elemento con comas, y rodearlo todo con corchetes."
   ]
  },
  {
   "cell_type": "code",
   "execution_count": 1,
   "metadata": {},
   "outputs": [
    {
     "name": "stdout",
     "output_type": "stream",
     "text": [
      "[1, 3, 5, 6] <class 'list'>\n"
     ]
    }
   ],
   "source": [
    "numeros = [1, 3, 5, 6]\n",
    "print(numeros, type(numeros))"
   ]
  },
  {
   "cell_type": "code",
   "execution_count": 10,
   "metadata": {},
   "outputs": [
    {
     "name": "stdout",
     "output_type": "stream",
     "text": [
      "['Esto', 'es', 'una', 'lista']\n"
     ]
    }
   ],
   "source": [
    "# Lista de strings\n",
    "strings = [\"Esto\", \"es\", \"una\", \"lista\"]\n",
    "print(strings)"
   ]
  },
  {
   "cell_type": "code",
   "execution_count": 11,
   "metadata": {},
   "outputs": [
    {
     "name": "stdout",
     "output_type": "stream",
     "text": [
      "[True, False, True, True, False]\n"
     ]
    }
   ],
   "source": [
    "# Lista de booleanos\n",
    "booleanos = [True, False, not False, True or False, False and False]\n",
    "print(booleanos)"
   ]
  },
  {
   "cell_type": "markdown",
   "metadata": {},
   "source": [
    "**NOTA**: ¿Ves por qué los decimales en Python siempre van con puntos y no con comas? Con las colecciones el intérprete de Python se volvería loco.\n",
    "\n",
    "Podemos ver tambien el tipo de la lista"
   ]
  },
  {
   "cell_type": "code",
   "execution_count": 12,
   "metadata": {},
   "outputs": [
    {
     "name": "stdout",
     "output_type": "stream",
     "text": [
      "['Esto es', 12, -3.5, True, False, 'lista'] <class 'list'>\n"
     ]
    }
   ],
   "source": [
    "# Lista de tipos mezclados\n",
    "mix = [\"Esto es\", 12, -3.5, True, False, \"lista\"]\n",
    "print(mix, type(mix))"
   ]
  },
  {
   "cell_type": "markdown",
   "metadata": {},
   "source": [
    "Calcular la longitud de la misma mediante el método *built-in* ya visto: `len()`"
   ]
  },
  {
   "cell_type": "code",
   "execution_count": 13,
   "metadata": {},
   "outputs": [
    {
     "name": "stdout",
     "output_type": "stream",
     "text": [
      "['Gola', '12', 23, [23, True, False]] Longitud:  4\n"
     ]
    }
   ],
   "source": [
    "# Listas anidadas\n",
    "listas = [\"Gola\", \"12\", 23, [23, True, False]]\n",
    "print(listas, \"Longitud: \", len(listas))"
   ]
  },
  {
   "cell_type": "code",
   "execution_count": 14,
   "metadata": {},
   "outputs": [
    {
     "name": "stdout",
     "output_type": "stream",
     "text": [
      "['Esto es', 12, -3.5, True, False, 'lista', 'Gola', '12', 23, [23, True, False]]\n"
     ]
    }
   ],
   "source": [
    "# Concatenación\n",
    "concat = mix + listas\n",
    "print(concat)"
   ]
  },
  {
   "cell_type": "markdown",
   "metadata": {},
   "source": [
    "Accedemos a los elemenos de la lista mediante corchetes `[]`\n",
    "\n",
    "**Importante**. El primer elemento es el 0"
   ]
  },
  {
   "cell_type": "code",
   "execution_count": 18,
   "metadata": {},
   "outputs": [
    {
     "name": "stdout",
     "output_type": "stream",
     "text": [
      "Esto\n",
      "COCRETA\n",
      "patata\n"
     ]
    },
    {
     "ename": "IndexError",
     "evalue": "list index out of range",
     "output_type": "error",
     "traceback": [
      "\u001b[0;31m---------------------------------------------------------------------------\u001b[0m",
      "\u001b[0;31mIndexError\u001b[0m                                Traceback (most recent call last)",
      "Cell \u001b[0;32mIn[18], line 5\u001b[0m\n\u001b[1;32m      3\u001b[0m \u001b[38;5;28mprint\u001b[39m(lista_ejemplo[\u001b[38;5;241m-\u001b[39m\u001b[38;5;241m1\u001b[39m])\n\u001b[1;32m      4\u001b[0m \u001b[38;5;28mprint\u001b[39m(lista_ejemplo[\u001b[38;5;241m-\u001b[39m\u001b[38;5;241m2\u001b[39m])\n\u001b[0;32m----> 5\u001b[0m \u001b[38;5;28mprint\u001b[39m(\u001b[43mlista_ejemplo\u001b[49m\u001b[43m[\u001b[49m\u001b[38;5;241;43m123\u001b[39;49m\u001b[43m]\u001b[49m)\n",
      "\u001b[0;31mIndexError\u001b[0m: list index out of range"
     ]
    }
   ],
   "source": [
    "lista_ejemplo = [\"Esto\", 2, 3, \"patata\", \"COCRETA\"]\n",
    "print(lista_ejemplo[0])\n",
    "print(lista_ejemplo[-1])\n",
    "print(lista_ejemplo[-2])\n",
    "print(lista_ejemplo[123])"
   ]
  },
  {
   "cell_type": "code",
   "execution_count": null,
   "metadata": {},
   "outputs": [],
   "source": []
  },
  {
   "cell_type": "markdown",
   "metadata": {},
   "source": [
    "### Metodos en Listas  \n",
    "[Índice](#Contenidos)  \n",
    "\n",
    "Para el tipo de objeto lista, también hay una serie de métodos catacterísticos que nos permiten operar con ellas: añadir valores, quitarlos, indexado, filtrado, etc... En [este enlace](https://www.w3schools.com/python/python_ref_list.asp) puedes encontrar todos los métodos que podrás usar con listas."
   ]
  },
  {
   "cell_type": "code",
   "execution_count": 24,
   "metadata": {},
   "outputs": [
    {
     "name": "stdout",
     "output_type": "stream",
     "text": [
      "['Física', 'Química', 'Matemáticas', 'Literatura', 'Filosofía']\n",
      "['Física', 'Educación física', 'Química', 'Matemáticas', 'Literatura', 'Filosofía']\n",
      "['Física', 'Química', 'Matemáticas', 'Literatura', 'Filosofía']\n",
      "['Física', 'Química', 'Matemáticas', 'Literatura']\n",
      "['Física', 'Literatura', 'Matemáticas', 'Química']\n"
     ]
    }
   ],
   "source": [
    "asignaturas = [\"Física\", \"Química\", \"Matemáticas\", \"Literatura\"]\n",
    "\n",
    "# Añadir elemento al final\n",
    "asignaturas.append(\"Filosofía\")\n",
    "print(asignaturas)\n",
    "\n",
    "# Añadir elementos en una posición determinada\n",
    "asignaturas.insert(1, \"Educación física\")\n",
    "print(asignaturas)\n",
    "\n",
    "# Quitar elementos\n",
    "#asignaturas.clear()\n",
    "#print(asignaturas)\n",
    "\n",
    "# Quitar elemento a partir de su posición\n",
    "asignaturas.pop(1)\n",
    "print(asignaturas)\n",
    "\n",
    "# Quitar elemento por su valor\n",
    "asignaturas.remove(\"Filosofía\")\n",
    "print(asignaturas)\n",
    "\n",
    "# Ordenar la lista\n",
    "asignaturas.sort()\n",
    "print(asignaturas)"
   ]
  }
 ],
 "metadata": {
  "kernelspec": {
   "display_name": "Python 3 (ipykernel)",
   "language": "python",
   "name": "python3"
  },
  "language_info": {
   "codemirror_mode": {
    "name": "ipython",
    "version": 3
   },
   "file_extension": ".py",
   "mimetype": "text/x-python",
   "name": "python",
   "nbconvert_exporter": "python",
   "pygments_lexer": "ipython3",
   "version": "3.12.3"
  }
 },
 "nbformat": 4,
 "nbformat_minor": 4
}
