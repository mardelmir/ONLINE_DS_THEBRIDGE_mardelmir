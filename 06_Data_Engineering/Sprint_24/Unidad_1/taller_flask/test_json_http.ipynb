{
 "cells": [
  {
   "cell_type": "code",
   "execution_count": 1,
   "metadata": {},
   "outputs": [],
   "source": [
    "import requests"
   ]
  },
  {
   "cell_type": "code",
   "execution_count": 2,
   "metadata": {},
   "outputs": [
    {
     "name": "stdout",
     "output_type": "stream",
     "text": [
      "Response: 200\n",
      "{\n",
      "  \"author\": \"Vernor Vinge\",\n",
      "  \"first_sentence\": \"The coldsleep itself was dreamless.\",\n",
      "  \"id\": 0,\n",
      "  \"title\": \"A Fire Upon the Deep\",\n",
      "  \"year_published\": \"1992\"\n",
      "}\n",
      "\n",
      "<bound method Response.json of <Response [200]>>\n"
     ]
    }
   ],
   "source": [
    "# Rutas\n",
    "home = 'http://127.0.0.1:5000'\n",
    "endpoint_get = '/api/v2/resources/book'\n",
    "\n",
    "# Request\n",
    "json_get = {'id': 0}\n",
    "\n",
    "connect = requests.get(url = home + endpoint_get, json = json_get)\n",
    "print('Response:',  connect.status_code)\n",
    "print(connect.text)\n",
    "print(connect.json)"
   ]
  },
  {
   "cell_type": "code",
   "execution_count": 3,
   "metadata": {},
   "outputs": [
    {
     "name": "stdout",
     "output_type": "stream",
     "text": [
      "Response: 200\n",
      "{\n",
      "  \"author\": \"Alberto\",\n",
      "  \"first_sentence\": \"\\u00a1Cu\\u00e1ntas cosas aprendemos!\",\n",
      "  \"id\": 4,\n",
      "  \"title\": \"Seguimos aprendiendo mucho :) \",\n",
      "  \"year_published\": \"2024\"\n",
      "}\n",
      "\n",
      "<bound method Response.json of <Response [200]>>\n"
     ]
    }
   ],
   "source": [
    "endpoint_post = '/api/v2/resources/book'\n",
    "libro_nuevo = {\n",
    "    'author': 'Alberto',\n",
    "    'first_sentence': '¡Cuántas cosas aprendemos!',\n",
    "    'id': 4,\n",
    "    'title': 'Seguimos aprendiendo mucho :) ',\n",
    "    'year_published': '2024'\n",
    "}\n",
    "\n",
    "connect = requests.post(url = home + endpoint_post, json = libro_nuevo)\n",
    "print('Response:',  connect.status_code)\n",
    "print(connect.text)\n",
    "print(connect.json)"
   ]
  },
  {
   "cell_type": "code",
   "execution_count": 4,
   "metadata": {},
   "outputs": [
    {
     "name": "stdout",
     "output_type": "stream",
     "text": [
      "Response: 200\n",
      "[\n",
      "  {\n",
      "    \"author\": \"Vernor Vinge\",\n",
      "    \"first_sentence\": \"The coldsleep itself was dreamless.\",\n",
      "    \"id\": 0,\n",
      "    \"title\": \"A Fire Upon the Deep\",\n",
      "    \"year_published\": \"1992\"\n",
      "  },\n",
      "  {\n",
      "    \"author\": \"Ursula K. Le Guin\",\n",
      "    \"first_sentence\": \"With a clamor of bells that set the swallows soaring, the Festival of Summer came to the city Omelas, bright-towered by the sea.\",\n",
      "    \"id\": 1,\n",
      "    \"published\": \"1973\",\n",
      "    \"title\": \"The Ones Who Walk Away From Omelas\"\n",
      "  },\n",
      "  {\n",
      "    \"author\": \"Samuel R. Delany\",\n",
      "    \"first_sentence\": \"to wound the autumnal city.\",\n",
      "    \"id\": 2,\n",
      "    \"published\": \"1975\",\n",
      "    \"title\": \"Dhalgren\"\n",
      "  },\n",
      "  {\n",
      "    \"author\": \"Jaime G. P\\u00e1ramo\",\n",
      "    \"first_sentence\": \"There were tears on her eyes and fears trapped her mind but, inside, the courage of those who have nothing to lose and all to win, flown wild and free.\",\n",
      "    \"id\": 3,\n",
      "    \"published\": \"2025\",\n",
      "    \"title\": \"The Chain\"\n",
      "  },\n",
      "  {\n",
      "    \"author\": \"Alberto\",\n",
      "    \"first_sentence\": \"\\u00a1Cu\\u00e1ntas cosas aprendemos!\",\n",
      "    \"id\": 4,\n",
      "    \"title\": \"Seguimos aprendiendo mucho :) \",\n",
      "    \"year_published\": \"2024\"\n",
      "  }\n",
      "]\n",
      "\n",
      "<bound method Response.json of <Response [200]>>\n"
     ]
    }
   ],
   "source": [
    "endpoint = '/api/v1/resources/books/all'\n",
    "\n",
    "connect = requests.get(url = home + endpoint)\n",
    "print('Response:',  connect.status_code)\n",
    "print(connect.text)\n",
    "print(connect.json)"
   ]
  },
  {
   "cell_type": "code",
   "execution_count": 2,
   "metadata": {},
   "outputs": [
    {
     "name": "stdout",
     "output_type": "stream",
     "text": [
      "Response: 403\n",
      "\n",
      "<bound method Response.json of <Response [403]>>\n"
     ]
    }
   ],
   "source": [
    "# app3.py\n",
    "\n",
    "home = 'http://127.0.0.1:5000'\n",
    "endpoint_sql = '/api/v1/resources/books/all'\n",
    "connect = requests.get(url = home + endpoint_sql)\n",
    "\n",
    "print('Response:',  connect.status_code)\n",
    "print(connect.text)\n",
    "print(connect.json)"
   ]
  },
  {
   "cell_type": "code",
   "execution_count": 5,
   "metadata": {},
   "outputs": [
    {
     "name": "stdout",
     "output_type": "stream",
     "text": [
      "Response: 500\n",
      "<!doctype html>\n",
      "<html lang=en>\n",
      "<title>500 Internal Server Error</title>\n",
      "<h1>Internal Server Error</h1>\n",
      "<p>The server encountered an internal error and was unable to complete your request. Either the server is overloaded or there is an error in the application.</p>\n",
      "\n",
      "<bound method Response.json of <Response [500]>>\n"
     ]
    }
   ],
   "source": [
    "home = 'http://127.0.0.1:5000'\n",
    "url = '/api/v1/resources/book/filter'\n",
    "\n",
    "json = {\n",
    "    'published': '2024'\n",
    "}\n",
    "\n",
    "connect = requests.get(url = home + url, json = json)\n",
    "print('Response:',  connect.status_code)\n",
    "print(connect.text)\n",
    "print(connect.json)"
   ]
  }
 ],
 "metadata": {
  "kernelspec": {
   "display_name": "Python 3",
   "language": "python",
   "name": "python3"
  },
  "language_info": {
   "codemirror_mode": {
    "name": "ipython",
    "version": 3
   },
   "file_extension": ".py",
   "mimetype": "text/x-python",
   "name": "python",
   "nbconvert_exporter": "python",
   "pygments_lexer": "ipython3",
   "version": "3.12.7"
  }
 },
 "nbformat": 4,
 "nbformat_minor": 2
}
