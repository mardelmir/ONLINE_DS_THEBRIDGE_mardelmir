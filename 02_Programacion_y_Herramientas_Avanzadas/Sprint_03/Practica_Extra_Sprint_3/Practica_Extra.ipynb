{
  "cells": [
    {
      "cell_type": "markdown",
      "id": "computational-federation",
      "metadata": {
        "id": "computational-federation"
      },
      "source": [
        "# Práctica Extra Sprint 3: Álgebra y Numpy\n",
        "\n",
        "* Tanto si quieres ampliar tu destreza con Numpy como si necesitas recuperar el sprint, aquí tienes dos ejercicios que te permitirán conseguirlo.\n",
        "* Descargalo en tu ordenador, hazlo en él y súbelo a tu repo personal si quieres o necesitas que cuente.\n"
      ]
    },
    {
      "cell_type": "markdown",
      "id": "ef918613",
      "metadata": {
        "id": "ef918613"
      },
      "source": [
        "## PARTE I"
      ]
    },
    {
      "cell_type": "markdown",
      "id": "30329dc2",
      "metadata": {
        "id": "30329dc2"
      },
      "source": [
        "\n",
        "<img src='https://i0.wp.com/contraste.info/desarrollo/wp-content/uploads/2015/04/Marsattacks_FichaCine_5566706.jpg?fit=260%2C180&ssl=1' width=\"300\">\n",
        "                                                                                                \n",
        "Hemos sido invadidos por los extraterrestres. El Gobierno ha prohibido toda comunicación escrita en castellano. Para poder comunicarnos, debemos generar mensajes de hasta 9 letras, codificados conforme al siguiente diccionario:\n",
        "\n",
        "```Python\n",
        "{'A':8,\n",
        " 'B':7,\n",
        " 'C':5,\n",
        " 'D':13,\n",
        " 'E':9,\n",
        " 'F':16,\n",
        " 'G':18,\n",
        " 'H':22,\n",
        " 'I':4,\n",
        " 'J':23,\n",
        " 'K':11,\n",
        " 'L':3,\n",
        " 'M':21,\n",
        " 'N':1,\n",
        " 'O':6,\n",
        " 'P':15,\n",
        " 'Q':12,\n",
        " 'R':19,\n",
        " 'S':2,\n",
        " 'T':14,\n",
        " 'U':17,\n",
        " 'V':20,\n",
        " 'W':25,\n",
        " 'X':24,\n",
        " 'Y':10,\n",
        " 'Z':26\n",
        "}\n",
        "\n",
        "```\n",
        "\n",
        "Por ejemplo, el mensaje \"MARCIANOS\" lo codificaríamos como \"21 8 19 5 4 8 1 6 2\"\n",
        "\n",
        "Para poder enviar mensajes, debemos introducir los dígitos en una matriz 3x3. En este ejemplo, la matriz sería:\n",
        "\n",
        "$$A=\\begin{bmatrix}21 & 8 & 19 \\\\ 5 & 4 & 8 \\\\ 1 & 6 & 2\\end{bmatrix}$$\n",
        "\n",
        "A continuación, hay que multiplicar por la izquierda esta matriz por otra proporcionada por el Gobierno:\n",
        "\n",
        "$$C=\\begin{bmatrix}2 & 0 & 1 \\\\ 1 & 0 & 1 \\\\ 0 & 1 & 0\\end{bmatrix}$$\n",
        "\n",
        "Por tanto, el mensaje resultante sería:\n",
        "\n",
        "$$Z = CA=\\begin{bmatrix}2 & 0 & 1 \\\\ 1 & 0 & 1 \\\\ 0 & 1 & 0\\end{bmatrix}\\begin{bmatrix}21 & 8 & 19 \\\\ 5 & 4 & 8 \\\\ 1 & 6 & 2\\end{bmatrix}=\\begin{bmatrix}43 & 22 & 40 \\\\ 22 & 14 & 21 \\\\ 5 & 4 & 8\\end{bmatrix}$$\n",
        "\n",
        "El receptor del mensaje deberá decodificarlo multiplicando la matriz $Z$ por la matriz $C^{-1}$ (por la izquierda):\n",
        "\n",
        "$$C^{-1}Z=A$$\n",
        "\n",
        "**SE PIDE:**\n",
        "1. Implementa una función para enviar mensajes de 9 letras codificados\n",
        "> 1.1 Genera los dígitos correspondientes al mensaje a partir del diccionario y guárdalo en una lista  \n",
        "> 1.2 Haz un reshape de la lista para transformarlo en un array de numpy 3x3  \n",
        "> 1.3 Genera la matriz $Z=CA$, que será el output de la función\n",
        "2. Implementa una función para decodificar mensajes de 9 letras\n",
        "> 2.1 Crea un nuevo diccionario, donde se inviertan las claves y los valores del original  \n",
        "> 2.2 Realiza la operación $C^{-1}Z=A$ y convierte la matriz a un vector con el método `flatten()`  \n",
        "> 2.3 Recorre los elementos del vector para generar el mensaje decodificado usando el diccionario creado en 2.1\n",
        "\n",
        "Consejo: Antes de implementar la función, reproduce el ejemplo del enunciado. Cuando te funcione, encapsula tu código en funciones"
      ]
    },
    {
      "cell_type": "code",
      "execution_count": 3,
      "id": "980d215a",
      "metadata": {},
      "outputs": [],
      "source": [
        "import numpy as np\n",
        "\n",
        "key_dict = {\n",
        "    'A':8,\n",
        "    'B':7,\n",
        "    'C':5,\n",
        "    'D':13,\n",
        "    'E':9,\n",
        "    'F':16,\n",
        "    'G':18,\n",
        "    'H':22,\n",
        "    'I':4,\n",
        "    'J':23,\n",
        "    'K':11,\n",
        "    'L':3,\n",
        "    'M':21,\n",
        "    'N':1,\n",
        "    'O':6,\n",
        "    'P':15,\n",
        "    'Q':12,\n",
        "    'R':19,\n",
        "    'S':2,\n",
        "    'T':14,\n",
        "    'U':17,\n",
        "    'V':20,\n",
        "    'W':25,\n",
        "    'X':24,\n",
        "    'Y':10,\n",
        "    'Z':26\n",
        "}"
      ]
    },
    {
      "cell_type": "code",
      "execution_count": 102,
      "id": "pharmaceutical-extreme",
      "metadata": {
        "id": "pharmaceutical-extreme"
      },
      "outputs": [],
      "source": [
        "def code_msg(original_msg, key_dict):\n",
        "    msg = original_msg.upper().replace(' ', '')\n",
        "    coded_list = []\n",
        "    for char in msg:\n",
        "        coded_list.append(key_dict[char])\n",
        "\n",
        "    A = np.array(coded_list).reshape((3,3)) \n",
        "    C = np.array([[2,0,1], [1,0,1], [0,1,0]])\n",
        "    Z = C.dot(A)\n",
        "    return Z\n",
        "\n",
        "def decode_msg(Z, key_dict):\n",
        "    C = np.array([[2,0,1], [1,0,1], [0,1,0]])\n",
        "    C_inv = np.linalg.inv(C).astype(np.int32)\n",
        "    A = C_inv.dot(Z).flatten()\n",
        " \n",
        "    msg = ''\n",
        "    for n in A:\n",
        "        msg += next((k for k, v in key_dict.items() if v == n))\n",
        "    return msg"
      ]
    },
    {
      "cell_type": "code",
      "execution_count": 103,
      "id": "e2534c22",
      "metadata": {},
      "outputs": [
        {
          "name": "stdout",
          "output_type": "stream",
          "text": [
            "Mensaje codificado: \n",
            " [[43 22 40]\n",
            " [22 14 21]\n",
            " [ 5  4  8]]\n",
            "\n",
            "Mensaje decodificado: \n",
            " MARCIANOS\n"
          ]
        }
      ],
      "source": [
        "Z = code_msg('  marciaNoS', key_dict)\n",
        "print('Mensaje codificado: \\n', Z)\n",
        "\n",
        "msg = decode_msg(Z, key_dict)\n",
        "print('\\nMensaje decodificado: \\n', msg)"
      ]
    },
    {
      "cell_type": "markdown",
      "id": "personalized-prisoner",
      "metadata": {
        "id": "personalized-prisoner"
      },
      "source": [
        "## Parte II"
      ]
    },
    {
      "cell_type": "markdown",
      "id": "domestic-suicide",
      "metadata": {
        "id": "domestic-suicide"
      },
      "source": [
        "En el álgebra de matrices, existen tres tipos de matrices de especial interés:\n",
        "\n",
        "1. **Matriz diagonal**: Todos los elementos son 0 excepto los de la diagonal\n",
        "    \n",
        "    <img src='./img/diagonal.png' width = 200>\n",
        "\n",
        "2. **Triangular superior**: Todos los elementos por encima de la diagonal son 0\n",
        "    \n",
        "    <img src='./img/upper.png' width = 200>\n",
        "\n",
        "3. **Triangular inferior**: Todos los elementos por debajo de la diagonal son 0\n",
        "    \n",
        "    <img src='./img/lower.png' width = 200>\n",
        "\n",
        "En numpy, las funciones `diag()`, `triu()` y `tril()` permiten hacer transformaciones de una matriz a cualquiera de las 3 anteriores\n",
        "\n",
        "**CASO DE USO**\n",
        "\n",
        "\n",
        "<img src='./img/bets.jpg' width=400>\n",
        "\n",
        "\n",
        "En LaLiga se generan matrices como la siguiente, que indican la probabilidad estimada de cada resultado en un determinado partido:  \n",
        "\n",
        "![SegmentLocal](./img/match_matrix.gif \"segment\")\n",
        "\n",
        "Por ejemplo, la probabilidad estimada de que acaben 1-2 es del 3.37%  \n",
        "La probabilidad de que acaben en empate sería la suma de la diagonal: $(0.0373+0.078+0.0409+0.0095+0.0012+0.0001)=16.7\\%$\n",
        "\n",
        "**SE PIDE**:\n",
        "\n",
        "1. Implementa una función que reciba una matriz cuadrada nxn y devuelva un diccionario con la probabilidad de empate, victoria local y victoria visitante. Asegúrate de que la suma de estas tres probabilidades es próxima a 1.\n",
        "\n",
        "2. Implementa otra función que transforme el diccionario con las probabilidades a un diccionario de cuotas redondeado a 2 decimales (la cuota la calculamos como la inversa de la probabilidad)\n",
        "\n",
        "Prueba con esta matriz\n",
        "$$ P=\\begin{bmatrix}0.0373 & 0.082 & 0.013 & 0.004\\\\ 0.1504 & 0.098 & 0.0337 & 0.0097 \\\\\n",
        "0.121 & 0.194 & 0.04 & 0.0118 \\\\ 0.088 &  0.076 & 0.032 & 0.0091\\end{bmatrix}$$"
      ]
    },
    {
      "cell_type": "code",
      "execution_count": 105,
      "id": "competitive-russian",
      "metadata": {
        "id": "competitive-russian"
      },
      "outputs": [],
      "source": [
        "P = np.array([[0.0373, 0.082, 0.013, 0.004], [0.1504, 0.098, 0.0337, 0.0097], [0.121, 0.194, 0.04, 0.0118], [0.088, 0.076, 0.032, 0.0091]])"
      ]
    },
    {
      "cell_type": "code",
      "execution_count": 155,
      "id": "presidential-toddler",
      "metadata": {
        "id": "presidential-toddler"
      },
      "outputs": [],
      "source": [
        "def probability_dict(matrix):\n",
        "     diagonal = np.diag(matrix)\n",
        "     draw = np.sum(diagonal)\n",
        "     di = np.diag_indices_from(matrix)\n",
        "     \n",
        "     lower = np.tril(matrix)\n",
        "     lower[di] = 0 # hago 0 la diagonal, porque tril() incluye la diagonal\n",
        "     local = np.sum(lower)\n",
        "     \n",
        "     upper = np.triu(matrix)\n",
        "     upper[di] = 0 # hago 0 la diagonal, porque triu() incluye la diagonal\n",
        "     visitor = np.sum(upper)\n",
        "     \n",
        "     p_dict = {\n",
        "     'Empate': draw * 100,\n",
        "     'Victoria local': local * 100,\n",
        "     'Victoria visitante': visitor * 100,\n",
        "     'Comprobación probabilidad': draw + local + visitor\n",
        "     }\n",
        "     \n",
        "     return p_dict\n",
        " "
      ]
    },
    {
      "cell_type": "code",
      "execution_count": 156,
      "id": "2fe9f93d",
      "metadata": {},
      "outputs": [
        {
          "data": {
            "text/plain": [
              "{'Empate': 18.44,\n",
              " 'Victoria local': 66.14,\n",
              " 'Victoria visitante': 15.42,\n",
              " 'Comprobación probabilidad': 1.0}"
            ]
          },
          "execution_count": 156,
          "metadata": {},
          "output_type": "execute_result"
        }
      ],
      "source": [
        "probability_dict(P)"
      ]
    },
    {
      "cell_type": "code",
      "execution_count": 165,
      "id": "788bcddb",
      "metadata": {},
      "outputs": [],
      "source": [
        "def odds_dict(p_dict):\n",
        "    o_dict = {key: np.round((1 / (value/100)), 2) for key, value in p_dict.items() if key != 'Comprobación probabilidad'}\n",
        "    return o_dict"
      ]
    },
    {
      "cell_type": "code",
      "execution_count": 168,
      "id": "ed53df05",
      "metadata": {},
      "outputs": [
        {
          "data": {
            "text/plain": [
              "{'Empate': 5.42, 'Victoria local': 1.51, 'Victoria visitante': 6.49}"
            ]
          },
          "execution_count": 168,
          "metadata": {},
          "output_type": "execute_result"
        }
      ],
      "source": [
        "p_dict = probability_dict(P)\n",
        "odds_dict(p_dict)"
      ]
    },
    {
      "cell_type": "code",
      "execution_count": null,
      "id": "4c11c156",
      "metadata": {},
      "outputs": [],
      "source": []
    }
  ],
  "metadata": {
    "colab": {
      "provenance": []
    },
    "kernelspec": {
      "display_name": "Python 3 (ipykernel)",
      "language": "python",
      "name": "python3"
    },
    "language_info": {
      "codemirror_mode": {
        "name": "ipython",
        "version": 3
      },
      "file_extension": ".py",
      "mimetype": "text/x-python",
      "name": "python",
      "nbconvert_exporter": "python",
      "pygments_lexer": "ipython3",
      "version": "3.12.3"
    }
  },
  "nbformat": 4,
  "nbformat_minor": 5
}
