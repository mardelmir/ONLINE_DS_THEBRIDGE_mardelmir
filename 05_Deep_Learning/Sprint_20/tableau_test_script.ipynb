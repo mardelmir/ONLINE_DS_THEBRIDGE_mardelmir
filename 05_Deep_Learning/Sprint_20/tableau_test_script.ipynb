{
 "cells": [
  {
   "cell_type": "code",
   "execution_count": null,
   "metadata": {},
   "outputs": [],
   "source": [
    "from sklearn.cluster import KMeans\n",
    "from sklearn.preprocessing import StandardScaler\n",
    "import pandas as pd\n",
    "from tabpy.tabpy_tools.client import Client\n",
    "\n",
    "def customer_clustering(sales, profit):\n",
    "    '''Aplica k-means'''\n",
    "    # Convertir las entradas en un DataFrame\n",
    "    df = pd.DataFrame({'Sales': sales, 'Profit': profit})\n",
    "    scaler = StandardScaler()\n",
    "    X_scaled = scaler.fit_transform(df[['Sales', 'Profit']])\n",
    "    kmeans = KMeans(n_clusters = 3, random_state = 42)\n",
    "    categories = kmeans.fit_predict(X_scaled)\n",
    "    return categories.tolist()\n",
    "\n",
    "# Conectar y registrar la función en TabPy\n",
    "client = Client('http://localhost:9004/')\n",
    "client.deploy('customer_clustering', customer_clustering, 'Clasifica clientes en 3 categorías según ventas y ganancias', override = True)"
   ]
  }
 ],
 "metadata": {
  "kernelspec": {
   "display_name": "Python 3",
   "language": "python",
   "name": "python3"
  },
  "language_info": {
   "codemirror_mode": {
    "name": "ipython",
    "version": 3
   },
   "file_extension": ".py",
   "mimetype": "text/x-python",
   "name": "python",
   "nbconvert_exporter": "python",
   "pygments_lexer": "ipython3",
   "version": "3.12.4"
  }
 },
 "nbformat": 4,
 "nbformat_minor": 2
}
