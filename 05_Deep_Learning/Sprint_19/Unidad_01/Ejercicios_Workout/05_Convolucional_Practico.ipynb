{
  "cells": [
    {
      "cell_type": "markdown",
      "metadata": {
        "id": "ppl6JNmsGQlp"
      },
      "source": [
        "![image.png](attachment:5bcb4a2d-cdbe-4566-b957-531456ae1af8.png)"
      ]
    },
    {
      "cell_type": "markdown",
      "metadata": {
        "id": "YiHrL1OgGQlq"
      },
      "source": [
        "## Redes Convolucionales (con Keras)"
      ]
    },
    {
      "cell_type": "markdown",
      "metadata": {
        "id": "pbDvnN5DGQlr"
      },
      "source": [
        "*Adaptado de: https://www.kaggle.com/kanncaa1/convolutional-neural-network-cnn-tutorial*"
      ]
    },
    {
      "cell_type": "markdown",
      "metadata": {
        "id": "iJX2AZ41GQlr"
      },
      "source": [
        "Para completar nuestra visión sobre las redes convolucionales vamos a construir una bastante sencilla y potente a la vez para resolver un problema ahora sencillo pero que supuso todo un hito en la visión por ordenador y en el uso de modelos DL. Vamos a reconocer digitos escritos a mano, algo que ya hemos hecho varias veces e incluso con un gran resultado empleando modelos \"sencillos\", lo cual ya te dará una idea del avance del campo."
      ]
    },
    {
      "cell_type": "markdown",
      "metadata": {
        "id": "deZIXRZoGQlr"
      },
      "source": [
        "Vamos a utilizar un subconjunto del dataset MNIST para simplificar las operaciones y a simplificar las etapas de construcción de un modelo de ML, pero recuerda que en la vida real no hay simplificación posible."
      ]
    },
    {
      "cell_type": "markdown",
      "metadata": {
        "id": "RPZExUMuGQlr"
      },
      "source": [
        "### Imports"
      ]
    },
    {
      "cell_type": "markdown",
      "metadata": {
        "id": "0rvPWFk0GQlr"
      },
      "source": [
        "Comenzamos con la carga de módulos básicos, pero dado el carácter de tutorial de las sesiones, vamos a ir haciendo los imports de algunos elementos a medida que los necesitemos"
      ]
    },
    {
      "cell_type": "code",
      "execution_count": 143,
      "metadata": {
        "_cell_guid": "b1076dfc-b9ad-4769-8c92-a6c4dae69d19",
        "_uuid": "8f2839f25d086af736a60e9eeb907d3b93b6e0e5",
        "id": "UYrFWz3vGQls"
      },
      "outputs": [],
      "source": [
        "import bootcampviztools as bt\n",
        "import numpy as np\n",
        "import pandas as pd\n",
        "import seaborn as sns\n",
        "import matplotlib.pyplot as plt\n",
        "\n",
        "import warnings\n",
        "#filter warnings\n",
        "warnings.filterwarnings('ignore')\n",
        "\n",
        "from sklearn.metrics import classification_report, ConfusionMatrixDisplay\n",
        "from sklearn.model_selection import train_test_split\n"
      ]
    },
    {
      "cell_type": "markdown",
      "metadata": {
        "id": "h4agJHuUGQls"
      },
      "source": [
        "### Carga de datos y primera inspeccion"
      ]
    },
    {
      "cell_type": "code",
      "execution_count": 144,
      "metadata": {
        "_uuid": "6884db4361a209f639cd6f3bf15231d271ecf563",
        "scrolled": true,
        "colab": {
          "base_uri": "https://localhost:8080/",
          "height": 273
        },
        "id": "vx6ZFcRXGQls",
        "outputId": "9540f867-9283-4521-d41b-15925c1ea8f4"
      },
      "outputs": [
        {
          "output_type": "stream",
          "name": "stdout",
          "text": [
            "(21000, 785)\n"
          ]
        },
        {
          "output_type": "execute_result",
          "data": {
            "text/plain": [
              "   label  pixel0  pixel1  pixel2  pixel3  pixel4  pixel5  pixel6  pixel7  \\\n",
              "0      6       0       0       0       0       0       0       0       0   \n",
              "1      4       0       0       0       0       0       0       0       0   \n",
              "2      5       0       0       0       0       0       0       0       0   \n",
              "3      3       0       0       0       0       0       0       0       0   \n",
              "4      8       0       0       0       0       0       0       0       0   \n",
              "\n",
              "   pixel8  ...  pixel774  pixel775  pixel776  pixel777  pixel778  pixel779  \\\n",
              "0       0  ...         0         0         0         0         0         0   \n",
              "1       0  ...         0         0         0         0         0         0   \n",
              "2       0  ...         0         0         0         0         0         0   \n",
              "3       0  ...         0         0         0         0         0         0   \n",
              "4       0  ...         0         0         0         0         0         0   \n",
              "\n",
              "   pixel780  pixel781  pixel782  pixel783  \n",
              "0         0         0         0         0  \n",
              "1         0         0         0         0  \n",
              "2         0         0         0         0  \n",
              "3         0         0         0         0  \n",
              "4         0         0         0         0  \n",
              "\n",
              "[5 rows x 785 columns]"
            ],
            "text/html": [
              "\n",
              "  <div id=\"df-b685f0ea-0b61-442b-9d9d-059e06fb1945\" class=\"colab-df-container\">\n",
              "    <div>\n",
              "<style scoped>\n",
              "    .dataframe tbody tr th:only-of-type {\n",
              "        vertical-align: middle;\n",
              "    }\n",
              "\n",
              "    .dataframe tbody tr th {\n",
              "        vertical-align: top;\n",
              "    }\n",
              "\n",
              "    .dataframe thead th {\n",
              "        text-align: right;\n",
              "    }\n",
              "</style>\n",
              "<table border=\"1\" class=\"dataframe\">\n",
              "  <thead>\n",
              "    <tr style=\"text-align: right;\">\n",
              "      <th></th>\n",
              "      <th>label</th>\n",
              "      <th>pixel0</th>\n",
              "      <th>pixel1</th>\n",
              "      <th>pixel2</th>\n",
              "      <th>pixel3</th>\n",
              "      <th>pixel4</th>\n",
              "      <th>pixel5</th>\n",
              "      <th>pixel6</th>\n",
              "      <th>pixel7</th>\n",
              "      <th>pixel8</th>\n",
              "      <th>...</th>\n",
              "      <th>pixel774</th>\n",
              "      <th>pixel775</th>\n",
              "      <th>pixel776</th>\n",
              "      <th>pixel777</th>\n",
              "      <th>pixel778</th>\n",
              "      <th>pixel779</th>\n",
              "      <th>pixel780</th>\n",
              "      <th>pixel781</th>\n",
              "      <th>pixel782</th>\n",
              "      <th>pixel783</th>\n",
              "    </tr>\n",
              "  </thead>\n",
              "  <tbody>\n",
              "    <tr>\n",
              "      <th>0</th>\n",
              "      <td>6</td>\n",
              "      <td>0</td>\n",
              "      <td>0</td>\n",
              "      <td>0</td>\n",
              "      <td>0</td>\n",
              "      <td>0</td>\n",
              "      <td>0</td>\n",
              "      <td>0</td>\n",
              "      <td>0</td>\n",
              "      <td>0</td>\n",
              "      <td>...</td>\n",
              "      <td>0</td>\n",
              "      <td>0</td>\n",
              "      <td>0</td>\n",
              "      <td>0</td>\n",
              "      <td>0</td>\n",
              "      <td>0</td>\n",
              "      <td>0</td>\n",
              "      <td>0</td>\n",
              "      <td>0</td>\n",
              "      <td>0</td>\n",
              "    </tr>\n",
              "    <tr>\n",
              "      <th>1</th>\n",
              "      <td>4</td>\n",
              "      <td>0</td>\n",
              "      <td>0</td>\n",
              "      <td>0</td>\n",
              "      <td>0</td>\n",
              "      <td>0</td>\n",
              "      <td>0</td>\n",
              "      <td>0</td>\n",
              "      <td>0</td>\n",
              "      <td>0</td>\n",
              "      <td>...</td>\n",
              "      <td>0</td>\n",
              "      <td>0</td>\n",
              "      <td>0</td>\n",
              "      <td>0</td>\n",
              "      <td>0</td>\n",
              "      <td>0</td>\n",
              "      <td>0</td>\n",
              "      <td>0</td>\n",
              "      <td>0</td>\n",
              "      <td>0</td>\n",
              "    </tr>\n",
              "    <tr>\n",
              "      <th>2</th>\n",
              "      <td>5</td>\n",
              "      <td>0</td>\n",
              "      <td>0</td>\n",
              "      <td>0</td>\n",
              "      <td>0</td>\n",
              "      <td>0</td>\n",
              "      <td>0</td>\n",
              "      <td>0</td>\n",
              "      <td>0</td>\n",
              "      <td>0</td>\n",
              "      <td>...</td>\n",
              "      <td>0</td>\n",
              "      <td>0</td>\n",
              "      <td>0</td>\n",
              "      <td>0</td>\n",
              "      <td>0</td>\n",
              "      <td>0</td>\n",
              "      <td>0</td>\n",
              "      <td>0</td>\n",
              "      <td>0</td>\n",
              "      <td>0</td>\n",
              "    </tr>\n",
              "    <tr>\n",
              "      <th>3</th>\n",
              "      <td>3</td>\n",
              "      <td>0</td>\n",
              "      <td>0</td>\n",
              "      <td>0</td>\n",
              "      <td>0</td>\n",
              "      <td>0</td>\n",
              "      <td>0</td>\n",
              "      <td>0</td>\n",
              "      <td>0</td>\n",
              "      <td>0</td>\n",
              "      <td>...</td>\n",
              "      <td>0</td>\n",
              "      <td>0</td>\n",
              "      <td>0</td>\n",
              "      <td>0</td>\n",
              "      <td>0</td>\n",
              "      <td>0</td>\n",
              "      <td>0</td>\n",
              "      <td>0</td>\n",
              "      <td>0</td>\n",
              "      <td>0</td>\n",
              "    </tr>\n",
              "    <tr>\n",
              "      <th>4</th>\n",
              "      <td>8</td>\n",
              "      <td>0</td>\n",
              "      <td>0</td>\n",
              "      <td>0</td>\n",
              "      <td>0</td>\n",
              "      <td>0</td>\n",
              "      <td>0</td>\n",
              "      <td>0</td>\n",
              "      <td>0</td>\n",
              "      <td>0</td>\n",
              "      <td>...</td>\n",
              "      <td>0</td>\n",
              "      <td>0</td>\n",
              "      <td>0</td>\n",
              "      <td>0</td>\n",
              "      <td>0</td>\n",
              "      <td>0</td>\n",
              "      <td>0</td>\n",
              "      <td>0</td>\n",
              "      <td>0</td>\n",
              "      <td>0</td>\n",
              "    </tr>\n",
              "  </tbody>\n",
              "</table>\n",
              "<p>5 rows × 785 columns</p>\n",
              "</div>\n",
              "    <div class=\"colab-df-buttons\">\n",
              "\n",
              "  <div class=\"colab-df-container\">\n",
              "    <button class=\"colab-df-convert\" onclick=\"convertToInteractive('df-b685f0ea-0b61-442b-9d9d-059e06fb1945')\"\n",
              "            title=\"Convert this dataframe to an interactive table.\"\n",
              "            style=\"display:none;\">\n",
              "\n",
              "  <svg xmlns=\"http://www.w3.org/2000/svg\" height=\"24px\" viewBox=\"0 -960 960 960\">\n",
              "    <path d=\"M120-120v-720h720v720H120Zm60-500h600v-160H180v160Zm220 220h160v-160H400v160Zm0 220h160v-160H400v160ZM180-400h160v-160H180v160Zm440 0h160v-160H620v160ZM180-180h160v-160H180v160Zm440 0h160v-160H620v160Z\"/>\n",
              "  </svg>\n",
              "    </button>\n",
              "\n",
              "  <style>\n",
              "    .colab-df-container {\n",
              "      display:flex;\n",
              "      gap: 12px;\n",
              "    }\n",
              "\n",
              "    .colab-df-convert {\n",
              "      background-color: #E8F0FE;\n",
              "      border: none;\n",
              "      border-radius: 50%;\n",
              "      cursor: pointer;\n",
              "      display: none;\n",
              "      fill: #1967D2;\n",
              "      height: 32px;\n",
              "      padding: 0 0 0 0;\n",
              "      width: 32px;\n",
              "    }\n",
              "\n",
              "    .colab-df-convert:hover {\n",
              "      background-color: #E2EBFA;\n",
              "      box-shadow: 0px 1px 2px rgba(60, 64, 67, 0.3), 0px 1px 3px 1px rgba(60, 64, 67, 0.15);\n",
              "      fill: #174EA6;\n",
              "    }\n",
              "\n",
              "    .colab-df-buttons div {\n",
              "      margin-bottom: 4px;\n",
              "    }\n",
              "\n",
              "    [theme=dark] .colab-df-convert {\n",
              "      background-color: #3B4455;\n",
              "      fill: #D2E3FC;\n",
              "    }\n",
              "\n",
              "    [theme=dark] .colab-df-convert:hover {\n",
              "      background-color: #434B5C;\n",
              "      box-shadow: 0px 1px 3px 1px rgba(0, 0, 0, 0.15);\n",
              "      filter: drop-shadow(0px 1px 2px rgba(0, 0, 0, 0.3));\n",
              "      fill: #FFFFFF;\n",
              "    }\n",
              "  </style>\n",
              "\n",
              "    <script>\n",
              "      const buttonEl =\n",
              "        document.querySelector('#df-b685f0ea-0b61-442b-9d9d-059e06fb1945 button.colab-df-convert');\n",
              "      buttonEl.style.display =\n",
              "        google.colab.kernel.accessAllowed ? 'block' : 'none';\n",
              "\n",
              "      async function convertToInteractive(key) {\n",
              "        const element = document.querySelector('#df-b685f0ea-0b61-442b-9d9d-059e06fb1945');\n",
              "        const dataTable =\n",
              "          await google.colab.kernel.invokeFunction('convertToInteractive',\n",
              "                                                    [key], {});\n",
              "        if (!dataTable) return;\n",
              "\n",
              "        const docLinkHtml = 'Like what you see? Visit the ' +\n",
              "          '<a target=\"_blank\" href=https://colab.research.google.com/notebooks/data_table.ipynb>data table notebook</a>'\n",
              "          + ' to learn more about interactive tables.';\n",
              "        element.innerHTML = '';\n",
              "        dataTable['output_type'] = 'display_data';\n",
              "        await google.colab.output.renderOutput(dataTable, element);\n",
              "        const docLink = document.createElement('div');\n",
              "        docLink.innerHTML = docLinkHtml;\n",
              "        element.appendChild(docLink);\n",
              "      }\n",
              "    </script>\n",
              "  </div>\n",
              "\n",
              "\n",
              "<div id=\"df-9fcff8aa-3bb2-4a34-8eea-9316a6a876fb\">\n",
              "  <button class=\"colab-df-quickchart\" onclick=\"quickchart('df-9fcff8aa-3bb2-4a34-8eea-9316a6a876fb')\"\n",
              "            title=\"Suggest charts\"\n",
              "            style=\"display:none;\">\n",
              "\n",
              "<svg xmlns=\"http://www.w3.org/2000/svg\" height=\"24px\"viewBox=\"0 0 24 24\"\n",
              "     width=\"24px\">\n",
              "    <g>\n",
              "        <path d=\"M19 3H5c-1.1 0-2 .9-2 2v14c0 1.1.9 2 2 2h14c1.1 0 2-.9 2-2V5c0-1.1-.9-2-2-2zM9 17H7v-7h2v7zm4 0h-2V7h2v10zm4 0h-2v-4h2v4z\"/>\n",
              "    </g>\n",
              "</svg>\n",
              "  </button>\n",
              "\n",
              "<style>\n",
              "  .colab-df-quickchart {\n",
              "      --bg-color: #E8F0FE;\n",
              "      --fill-color: #1967D2;\n",
              "      --hover-bg-color: #E2EBFA;\n",
              "      --hover-fill-color: #174EA6;\n",
              "      --disabled-fill-color: #AAA;\n",
              "      --disabled-bg-color: #DDD;\n",
              "  }\n",
              "\n",
              "  [theme=dark] .colab-df-quickchart {\n",
              "      --bg-color: #3B4455;\n",
              "      --fill-color: #D2E3FC;\n",
              "      --hover-bg-color: #434B5C;\n",
              "      --hover-fill-color: #FFFFFF;\n",
              "      --disabled-bg-color: #3B4455;\n",
              "      --disabled-fill-color: #666;\n",
              "  }\n",
              "\n",
              "  .colab-df-quickchart {\n",
              "    background-color: var(--bg-color);\n",
              "    border: none;\n",
              "    border-radius: 50%;\n",
              "    cursor: pointer;\n",
              "    display: none;\n",
              "    fill: var(--fill-color);\n",
              "    height: 32px;\n",
              "    padding: 0;\n",
              "    width: 32px;\n",
              "  }\n",
              "\n",
              "  .colab-df-quickchart:hover {\n",
              "    background-color: var(--hover-bg-color);\n",
              "    box-shadow: 0 1px 2px rgba(60, 64, 67, 0.3), 0 1px 3px 1px rgba(60, 64, 67, 0.15);\n",
              "    fill: var(--button-hover-fill-color);\n",
              "  }\n",
              "\n",
              "  .colab-df-quickchart-complete:disabled,\n",
              "  .colab-df-quickchart-complete:disabled:hover {\n",
              "    background-color: var(--disabled-bg-color);\n",
              "    fill: var(--disabled-fill-color);\n",
              "    box-shadow: none;\n",
              "  }\n",
              "\n",
              "  .colab-df-spinner {\n",
              "    border: 2px solid var(--fill-color);\n",
              "    border-color: transparent;\n",
              "    border-bottom-color: var(--fill-color);\n",
              "    animation:\n",
              "      spin 1s steps(1) infinite;\n",
              "  }\n",
              "\n",
              "  @keyframes spin {\n",
              "    0% {\n",
              "      border-color: transparent;\n",
              "      border-bottom-color: var(--fill-color);\n",
              "      border-left-color: var(--fill-color);\n",
              "    }\n",
              "    20% {\n",
              "      border-color: transparent;\n",
              "      border-left-color: var(--fill-color);\n",
              "      border-top-color: var(--fill-color);\n",
              "    }\n",
              "    30% {\n",
              "      border-color: transparent;\n",
              "      border-left-color: var(--fill-color);\n",
              "      border-top-color: var(--fill-color);\n",
              "      border-right-color: var(--fill-color);\n",
              "    }\n",
              "    40% {\n",
              "      border-color: transparent;\n",
              "      border-right-color: var(--fill-color);\n",
              "      border-top-color: var(--fill-color);\n",
              "    }\n",
              "    60% {\n",
              "      border-color: transparent;\n",
              "      border-right-color: var(--fill-color);\n",
              "    }\n",
              "    80% {\n",
              "      border-color: transparent;\n",
              "      border-right-color: var(--fill-color);\n",
              "      border-bottom-color: var(--fill-color);\n",
              "    }\n",
              "    90% {\n",
              "      border-color: transparent;\n",
              "      border-bottom-color: var(--fill-color);\n",
              "    }\n",
              "  }\n",
              "</style>\n",
              "\n",
              "  <script>\n",
              "    async function quickchart(key) {\n",
              "      const quickchartButtonEl =\n",
              "        document.querySelector('#' + key + ' button');\n",
              "      quickchartButtonEl.disabled = true;  // To prevent multiple clicks.\n",
              "      quickchartButtonEl.classList.add('colab-df-spinner');\n",
              "      try {\n",
              "        const charts = await google.colab.kernel.invokeFunction(\n",
              "            'suggestCharts', [key], {});\n",
              "      } catch (error) {\n",
              "        console.error('Error during call to suggestCharts:', error);\n",
              "      }\n",
              "      quickchartButtonEl.classList.remove('colab-df-spinner');\n",
              "      quickchartButtonEl.classList.add('colab-df-quickchart-complete');\n",
              "    }\n",
              "    (() => {\n",
              "      let quickchartButtonEl =\n",
              "        document.querySelector('#df-9fcff8aa-3bb2-4a34-8eea-9316a6a876fb button');\n",
              "      quickchartButtonEl.style.display =\n",
              "        google.colab.kernel.accessAllowed ? 'block' : 'none';\n",
              "    })();\n",
              "  </script>\n",
              "</div>\n",
              "\n",
              "    </div>\n",
              "  </div>\n"
            ],
            "application/vnd.google.colaboratory.intrinsic+json": {
              "type": "dataframe",
              "variable_name": "df"
            }
          },
          "metadata": {},
          "execution_count": 144
        }
      ],
      "source": [
        "# read train\n",
        "df = pd.read_csv(\"./data/mnist_clase_convo.csv\")\n",
        "print(df.shape)\n",
        "df.head()"
      ]
    },
    {
      "cell_type": "markdown",
      "metadata": {
        "id": "xlkent7yGQlt"
      },
      "source": [
        "En esta ocasión ya nos han proporcionado el dataset \"aplanado\", lo cual es interesante porque para las convolucionales lo vamos a necesitar desaplanado :-)."
      ]
    },
    {
      "cell_type": "markdown",
      "metadata": {
        "id": "anBMsqpbGQlt"
      },
      "source": [
        "Además nos dan valores de pixel, pero ¿en qué escala?"
      ]
    },
    {
      "cell_type": "code",
      "execution_count": 145,
      "metadata": {
        "colab": {
          "base_uri": "https://localhost:8080/",
          "height": 335
        },
        "id": "JujM1V2ZGQlt",
        "outputId": "0f2440ca-589e-44c3-a469-e56246aefda6"
      },
      "outputs": [
        {
          "output_type": "execute_result",
          "data": {
            "text/plain": [
              "count    21000.000000\n",
              "mean         0.059810\n",
              "std          2.926297\n",
              "min          0.000000\n",
              "25%          0.000000\n",
              "50%          0.000000\n",
              "75%          0.000000\n",
              "max        223.000000\n",
              "Name: pixel450, dtype: float64"
            ],
            "text/html": [
              "<div>\n",
              "<style scoped>\n",
              "    .dataframe tbody tr th:only-of-type {\n",
              "        vertical-align: middle;\n",
              "    }\n",
              "\n",
              "    .dataframe tbody tr th {\n",
              "        vertical-align: top;\n",
              "    }\n",
              "\n",
              "    .dataframe thead th {\n",
              "        text-align: right;\n",
              "    }\n",
              "</style>\n",
              "<table border=\"1\" class=\"dataframe\">\n",
              "  <thead>\n",
              "    <tr style=\"text-align: right;\">\n",
              "      <th></th>\n",
              "      <th>pixel450</th>\n",
              "    </tr>\n",
              "  </thead>\n",
              "  <tbody>\n",
              "    <tr>\n",
              "      <th>count</th>\n",
              "      <td>21000.000000</td>\n",
              "    </tr>\n",
              "    <tr>\n",
              "      <th>mean</th>\n",
              "      <td>0.059810</td>\n",
              "    </tr>\n",
              "    <tr>\n",
              "      <th>std</th>\n",
              "      <td>2.926297</td>\n",
              "    </tr>\n",
              "    <tr>\n",
              "      <th>min</th>\n",
              "      <td>0.000000</td>\n",
              "    </tr>\n",
              "    <tr>\n",
              "      <th>25%</th>\n",
              "      <td>0.000000</td>\n",
              "    </tr>\n",
              "    <tr>\n",
              "      <th>50%</th>\n",
              "      <td>0.000000</td>\n",
              "    </tr>\n",
              "    <tr>\n",
              "      <th>75%</th>\n",
              "      <td>0.000000</td>\n",
              "    </tr>\n",
              "    <tr>\n",
              "      <th>max</th>\n",
              "      <td>223.000000</td>\n",
              "    </tr>\n",
              "  </tbody>\n",
              "</table>\n",
              "</div><br><label><b>dtype:</b> float64</label>"
            ]
          },
          "metadata": {},
          "execution_count": 145
        }
      ],
      "source": [
        "df[\"pixel450\"].describe()"
      ]
    },
    {
      "cell_type": "markdown",
      "metadata": {
        "id": "kml_IjQEGQlt"
      },
      "source": [
        "Parece que es entre 0 y 255, escala de grises, un sólo canal."
      ]
    },
    {
      "cell_type": "code",
      "execution_count": 146,
      "metadata": {
        "colab": {
          "base_uri": "https://localhost:8080/"
        },
        "id": "5JjneOGNGQlt",
        "outputId": "1fdc9fd0-8c64-4bed-9cf6-7e8625e5943b"
      },
      "outputs": [
        {
          "output_type": "stream",
          "name": "stdout",
          "text": [
            "<class 'pandas.core.frame.DataFrame'>\n",
            "RangeIndex: 21000 entries, 0 to 20999\n",
            "Columns: 785 entries, label to pixel783\n",
            "dtypes: int64(785)\n",
            "memory usage: 125.8 MB\n"
          ]
        }
      ],
      "source": [
        "df.info()"
      ]
    },
    {
      "cell_type": "markdown",
      "metadata": {
        "id": "aGugs8-TGQlt"
      },
      "source": [
        "Y limpito sin datos missing:"
      ]
    },
    {
      "cell_type": "code",
      "execution_count": 147,
      "metadata": {
        "colab": {
          "base_uri": "https://localhost:8080/"
        },
        "id": "vunyrwU3GQlt",
        "outputId": "e4e80400-93ef-443a-b30f-4854f130e2e4"
      },
      "outputs": [
        {
          "output_type": "execute_result",
          "data": {
            "text/plain": [
              "0"
            ]
          },
          "metadata": {},
          "execution_count": 147
        }
      ],
      "source": [
        "df.isnull().sum().sum()"
      ]
    },
    {
      "cell_type": "markdown",
      "metadata": {
        "id": "BA6Ue8TXGQlt"
      },
      "source": [
        "### Split de train y test"
      ]
    },
    {
      "cell_type": "code",
      "execution_count": 148,
      "metadata": {
        "id": "Z666XdFqGQlu"
      },
      "outputs": [],
      "source": [
        "train_set, test_set = train_test_split(df, test_size = 0.2, stratify = df[\"label\"], random_state = 42)"
      ]
    },
    {
      "cell_type": "code",
      "execution_count": 149,
      "metadata": {
        "id": "9VaewDTZGQlu"
      },
      "outputs": [],
      "source": [
        "target = \"label\""
      ]
    },
    {
      "cell_type": "markdown",
      "metadata": {
        "id": "NproAJueGQlu"
      },
      "source": [
        "### Funciones adicionales"
      ]
    },
    {
      "cell_type": "markdown",
      "metadata": {
        "id": "2gK86XNvGQlu"
      },
      "source": [
        "Antes de continuar con el miniEDA y la trasnformación de features, siempre que trabajemos con imágenes, tener a mano una forma de visualizarlas nos ayudará:"
      ]
    },
    {
      "cell_type": "code",
      "execution_count": 150,
      "metadata": {
        "id": "mNNF_7AiGQlu"
      },
      "outputs": [],
      "source": [
        "def plot_digits(digits,  labels = [], names = [\"cero\",\"uno\",\"dos\",\"tres\",\"cuatro\",\"cinco\",\"seis\",\"siete\",\"ocho\",\"nueve\"],n_cols = 5,):\n",
        "    n_rows = ((len(digits) - 1) // n_cols + 1)\n",
        "    plt.figure(figsize=(n_cols * 2, n_rows * 2.2))\n",
        "    if isinstance(digits,pd.DataFrame):\n",
        "        digits_val = digits.values.reshape(-1,28,28)\n",
        "    else:\n",
        "        digits_val = digits\n",
        "    for index, digit in enumerate(digits_val):\n",
        "        plt.subplot(n_rows, n_cols, index + 1)\n",
        "        plt.imshow(digit, cmap = \"Greys\")\n",
        "        plt.axis(\"off\")\n",
        "        if len(labels):\n",
        "            if isinstance(labels, pd.Series):\n",
        "                plt.title(names[labels.iloc[index]])\n",
        "            else:\n",
        "                plt.title(names[labels[index]])\n",
        ""
      ]
    },
    {
      "cell_type": "markdown",
      "metadata": {
        "id": "npDmtPzLGQlu"
      },
      "source": [
        "Esta función nos permite visualizar una conjunto, o batch, de datos ya sea una dataframe o un array de numpy, acompañándoles de sus etiquetas:"
      ]
    },
    {
      "cell_type": "code",
      "execution_count": 151,
      "metadata": {
        "colab": {
          "base_uri": "https://localhost:8080/",
          "height": 551
        },
        "id": "jOg-pRsDGQlu",
        "outputId": "ea6acdb2-db8c-48bd-96b0-88b623cd0d48"
      },
      "outputs": [
        {
          "output_type": "display_data",
          "data": {
            "text/plain": [
              "<Figure size 1000x660 with 15 Axes>"
            ],
            "image/png": "[encoded data removed]"
          },
          "metadata": {}
        }
      ],
      "source": [
        "plot_digits(train_set.drop(target,axis = 1).iloc[1230:1245], train_set[target].iloc[1230:1245])"
      ]
    },
    {
      "cell_type": "markdown",
      "metadata": {
        "id": "PnExA8-KGQlu"
      },
      "source": [
        "### MiniEDA"
      ]
    },
    {
      "cell_type": "markdown",
      "metadata": {
        "id": "YBH0u4QGGQlv"
      },
      "source": [
        "En este caso, no sólo por la necesidad de la sesión, sino además porque se trata de imágenes, nos centraremos en ver la distribución del target"
      ]
    },
    {
      "cell_type": "code",
      "execution_count": 152,
      "metadata": {
        "colab": {
          "base_uri": "https://localhost:8080/",
          "height": 482
        },
        "id": "YW0nqWx3GQlv",
        "outputId": "5e5bc2f3-a4e8-449f-f1c3-95ed7cee52f7"
      },
      "outputs": [
        {
          "output_type": "display_data",
          "data": {
            "text/plain": [
              "<Figure size 1500x500 with 2 Axes>"
            ],
            "image/png": "[encoded data removed]"
          },
          "metadata": {}
        }
      ],
      "source": [
        "bt.pinta_distribucion_categoricas(train_set, [target], True, True)"
      ]
    },
    {
      "cell_type": "markdown",
      "metadata": {
        "id": "xnnbiU1nGQlv"
      },
      "source": [
        "Esta bastante equilibrado, con lo que una métrica como \"accuracy\" nos viene bien para los procesos de entrenamiento y validación."
      ]
    },
    {
      "cell_type": "markdown",
      "metadata": {
        "id": "deVS2V5RGQlv"
      },
      "source": [
        "### Transformación de features"
      ]
    },
    {
      "cell_type": "markdown",
      "metadata": {
        "id": "6hJPubrKGQlv"
      },
      "source": [
        "En esta ocasión tenemos que hacer dos transformaciones:  \n",
        "1. La propia de los modelos de DL, muy sensibles a la escala. Por tanto, escalamos.  \n",
        "2. Como las redes convolucionales sobre imagenes esperan que les demos los datos en 2D/3D pues tenemos que \"desaplanar\" los datos de train y test.  "
      ]
    },
    {
      "cell_type": "markdown",
      "metadata": {
        "id": "ntpZw-X2GQlv"
      },
      "source": [
        "#### Escalado"
      ]
    },
    {
      "cell_type": "markdown",
      "metadata": {
        "id": "4COD2HnBGQlv"
      },
      "source": [
        "Vamos a normalizar aplicando el truco de dividir por el valor máximo de la escala de grises de un píxel (que es cómo tenemos los datos), y aquí ya conviene separar (para no escalar las etiquetas):"
      ]
    },
    {
      "cell_type": "code",
      "execution_count": 153,
      "metadata": {
        "id": "CF0pwyKfGQlv"
      },
      "outputs": [],
      "source": [
        "X_train = train_set.drop(target,axis =1)/255\n",
        "y_train = train_set[target]\n",
        "X_test = test_set.drop(target,axis = 1)/255\n",
        "y_test = test_set[target]"
      ]
    },
    {
      "cell_type": "markdown",
      "metadata": {
        "id": "9droBKOYGQlw"
      },
      "source": [
        "#### Desaplanado"
      ]
    },
    {
      "cell_type": "markdown",
      "metadata": {
        "id": "UR-O2SKEGQlw"
      },
      "source": [
        "Y ahora vamos a convertir los dataset en arrays de 28x28 (el tamaño original de las imagenes):"
      ]
    },
    {
      "cell_type": "code",
      "execution_count": 154,
      "metadata": {
        "_uuid": "318d94f6e935a6d8210d0ac03707dfa6e3946475",
        "id": "3gxOI-EiGQlw"
      },
      "outputs": [],
      "source": [
        "X_train = X_train.values.reshape(-1,28,28)\n",
        "X_test = X_test.values.reshape(-1,28,28)"
      ]
    },
    {
      "cell_type": "code",
      "execution_count": 155,
      "metadata": {
        "colab": {
          "base_uri": "https://localhost:8080/"
        },
        "id": "ysFDJC3nGQlw",
        "outputId": "02e23a6a-16a1-478f-c1de-c5b1d0d51ea9"
      },
      "outputs": [
        {
          "output_type": "execute_result",
          "data": {
            "text/plain": [
              "array([4, 4, 3, 8, 7])"
            ]
          },
          "metadata": {},
          "execution_count": 155
        }
      ],
      "source": [
        "y_train[100:105].values"
      ]
    },
    {
      "cell_type": "code",
      "execution_count": 156,
      "metadata": {
        "scrolled": true,
        "colab": {
          "base_uri": "https://localhost:8080/",
          "height": 192
        },
        "id": "kzWmN5ASGQlw",
        "outputId": "73a68679-c7fa-4f53-f579-506411905d7e"
      },
      "outputs": [
        {
          "output_type": "display_data",
          "data": {
            "text/plain": [
              "<Figure size 1000x220 with 5 Axes>"
            ],
            "image/png": "[encoded data removed]"
          },
          "metadata": {}
        }
      ],
      "source": [
        "plot_digits(X_train[100:105],y_train[100:105].values) # A pesar del escalado el plot funciona :-)"
      ]
    },
    {
      "cell_type": "markdown",
      "metadata": {
        "id": "VqamL3fLGQl1"
      },
      "source": [
        "Y ahora ya podemos construir nuestro modelo DL que en este caso será nuestra primera red convolucional:"
      ]
    },
    {
      "cell_type": "markdown",
      "metadata": {
        "id": "446MyjmaGQl1"
      },
      "source": [
        "***"
      ]
    },
    {
      "cell_type": "markdown",
      "metadata": {
        "id": "44hTxtpfGQl1"
      },
      "source": [
        "### Modelos DL con redes convolucionales (pequeño repaso)"
      ]
    },
    {
      "cell_type": "markdown",
      "metadata": {
        "id": "y589RHQFGQl1"
      },
      "source": [
        "Como todo modelo DL, lo \"farragoso\" es hacer la selección correcta de los primeros hiperparámetros y variables de configuración (y lo complicado es ajustarlos después :-)):\n",
        "1. Topología: Capas, unidades por capa, funciones de activación, conexión entre capas.\n",
        "2. Optimizador: Qué optimizador, learning_rate (valor inicial, constante, adaptativo, etc), qué valores para los hiperparámetros propios del optimizador elegido.\n",
        "3. (No son hiperparámetros, pero...) Problema: Función de pérdida, métrica\n",
        "4. Entrenamiento: Batch Size, Epochs, Callbacks (Earlystop, Checkpoints,etc)"
      ]
    },
    {
      "cell_type": "markdown",
      "metadata": {
        "id": "ZQ0VIBPuGQl1"
      },
      "source": [
        "### Topología"
      ]
    },
    {
      "cell_type": "markdown",
      "metadata": {
        "id": "f-yt6SSXGQl1"
      },
      "source": [
        "Además de ajustar los hiperparámetros que definen la topología, vamos a ver un nuevo tipo de capa que nos permitirá obtener modelos que generalizan mejor. Es decir es un tipo de capa, no entrenable, que regulariza el modelo."
      ]
    },
    {
      "cell_type": "markdown",
      "metadata": {
        "id": "eFLOm5rvGQl2"
      },
      "source": [
        "Lo primero es, por tanto, que topología. Vamos a montar algo similar a lo que nos muestra la siguiente figura:"
      ]
    },
    {
      "cell_type": "markdown",
      "metadata": {
        "id": "m61FMG5xGQl2"
      },
      "source": [
        "![image.png](attachment:553c1866-21f0-4c84-beaa-a384d1eb0d94.png)"
      ]
    },
    {
      "cell_type": "markdown",
      "metadata": {
        "id": "oXlPXNTqGQl2"
      },
      "source": [
        "Vamos a crear dos juegos de capas convolucional y de pooling (con función de pooling el Máximo), terminaremos la red con una capa oculta y una capa de salida con 10 unidades (porque hay diez clases) a las que aplicaremos una función de activación \"softmax\" como ya sabemos que tenemos que hacer con problemas de clasificación."
      ]
    },
    {
      "cell_type": "markdown",
      "metadata": {
        "id": "krN2Y4ALGQl2"
      },
      "source": [
        "Y añadiremos esas nuevas capas de \"Dropout\" (o poda) que nos servirán para regularizar el modelo (que se colocan cuando el modelo tiene cierta profundidad o cierta anchura, es decir hemos expandido mucho las features)."
      ]
    },
    {
      "cell_type": "markdown",
      "metadata": {
        "id": "5bOsroApGQl2"
      },
      "source": [
        "Ah, y nos queda una capa instrumental que no está dibujada que es la que pasará de la parte convolucional a la densa, es decir una capa \"Flatten\" para volver a arrays unidimensionales que son los que daremos como entrada la cabeza densa de la red."
      ]
    },
    {
      "cell_type": "markdown",
      "metadata": {
        "id": "o3J6tdSIGQl2"
      },
      "source": [
        "Empecemos:"
      ]
    },
    {
      "cell_type": "markdown",
      "metadata": {
        "id": "GJzwjFVqGQl2"
      },
      "source": [
        "![image.png](attachment:aec8aae7-5f15-4917-b2a3-98965343a930.png)"
      ]
    },
    {
      "cell_type": "code",
      "execution_count": 157,
      "metadata": {
        "id": "uJJfvzY9GQl2"
      },
      "outputs": [],
      "source": [
        "from keras.models import Sequential # De aquí sacamos el tipo de modelo que vamos a construir, que sigue siendo una secuencia o cadena de capas consecutivas\n",
        "\n",
        "model = Sequential() # creamos el modelo para ir añadiendo las capas\n"
      ]
    },
    {
      "cell_type": "markdown",
      "metadata": {
        "id": "vmmcInLHGQl2"
      },
      "source": [
        "Añadimos la primera **Capa convolucional**:\n",
        "* 8 **filtros** (es como tener 8 unidades \"convolucionales\"), ¿cuántos filtros necesito? Depende, tendrás que jugar con este número en función del tamaño de entrada de las imagenes y el detalle fino inicial que quieras (para imagenes más grandes 16,32,64,... estas son realmente pequeñas poco detalle fino puedo encontrar).  \n",
        "* 5x5 de **tamaño de Kernel (o campo receptivo, también se denomina así al kernel)**. Lo típico son 3,5 y 7. El valor depende de lo que queramos hilar de fino respecto a lo que consideremos un grupo de pixeles. Aquí vamos a pensar que cuadrado de 25 pixeles (5x5) es la agrupación adecuada. Juega con esos tres valores. Pero si la imagen está más pixelada (más borrosa) igual te merece usar kernels más grandes.  \n",
        "* **Stride** de 1x1, es decir vamos a aplicar el kernel a todos los píxeles de la entrada. Esto suele ser así generalmente con la parte de la entrada  \n",
        "* **Padding** a \"Same\", acorde con el stride de 1x1, vamos a rellenar \"virtualmente\" los bordes de forma que estos entren en el análisis. Same es la forma de no tener que preocuparse por el tamaño del kernel para ajustar el padding, lo autoajusta por dentro.\n",
        "* Para terminar, como **función de activación** usaremos \"ReLU\" (que en este tipo de capas es lo habitual)."
      ]
    },
    {
      "cell_type": "code",
      "execution_count": 158,
      "metadata": {
        "id": "mlYUBBGTGQl3"
      },
      "outputs": [],
      "source": [
        "from keras.layers import Conv2D # Esta es la capa para convolucionales con entrada de 2 dimensiones\n",
        "\n",
        "model.add(Conv2D(filters = 8, kernel_size = (5,5),padding = 'Same',\n",
        "                 activation ='relu', input_shape = (28,28,1))) # Fijate en dos cosas, en la el input_shape (ancho,alto,num_canales)\n",
        "                                                            # y en que no decimos nada de strides (el argumento para el stride), porque por defecto está a (1,1)\n",
        "\n"
      ]
    },
    {
      "cell_type": "markdown",
      "metadata": {
        "id": "MRbT8n6ZGQl3"
      },
      "source": [
        "Aunque no es fundamental que lo sepas a hacer, vamos a obtener el número de pesos que tendrá esta capa y la resolución de los mapas de características a la salida:"
      ]
    },
    {
      "cell_type": "markdown",
      "metadata": {
        "id": "vJGjMUsUGQl3"
      },
      "source": [
        "* Pesos = num_mapas (o num filtros) * (tamaño del kernel (ancho x alto) + 1 (el bias de cada unidad, recuerda que un filtro es como una \"neurona convolucional\"))  \n",
        "* Resolución: El stride (o strides) es 1x1 y el padding es completo -> La resolución es igual a la salida es decir cada filtro va a tener 28x28 píxeles (784 features)"
      ]
    },
    {
      "cell_type": "markdown",
      "metadata": {
        "id": "tYkQWwu6GQl3"
      },
      "source": [
        "O sea:"
      ]
    },
    {
      "cell_type": "code",
      "execution_count": 159,
      "metadata": {
        "colab": {
          "base_uri": "https://localhost:8080/"
        },
        "id": "xVuvgwdtGQl3",
        "outputId": "c03b4a95-bdf9-4aea-9ef4-9ded3459ae70"
      },
      "outputs": [
        {
          "output_type": "stream",
          "name": "stdout",
          "text": [
            "Pesos a entrenar: 208\n",
            "Resolución (features): 784.0  pero ojo como hay 8 filtros, las features las hemos ampliado a: 6272\n"
          ]
        }
      ],
      "source": [
        "print(\"Pesos a entrenar:\", 8 * ( 5 * 5 + 1))\n",
        "print(\"Resolución (features):\", 28/1 * 28/1, \" pero ojo como hay 8 filtros, las features las hemos ampliado a:\", 28*28*8)"
      ]
    },
    {
      "cell_type": "markdown",
      "metadata": {
        "id": "RrQD4m2rGQl3"
      },
      "source": [
        "Ahora vamos con la **capa de pooling**, en este caso los hiperparámetros:\n",
        "* Tipo de pooling, el máximo (es lo habitual)\n",
        "* kernel de 2x2\n",
        "* strides igual que el kernel 2x2\n",
        "\n",
        "¿Qué queremos hacer con esta es reducir la dimensionalidad en concreto bajando la resolución de los mapas de características en 2x2 (el tamaño del stride) y quedándonos con el máximo de cada agrupación de 4 píxeles (2x2 del kernel)..."
      ]
    },
    {
      "cell_type": "code",
      "execution_count": 160,
      "metadata": {
        "id": "jqX6Wxo5GQl3"
      },
      "outputs": [],
      "source": [
        "from keras.layers import MaxPool2D # Esta es la clase que corresponde a las capas de Pooling que hacen maxpooling sobre datos de entrada en 2D\n",
        "model.add(MaxPool2D(pool_size=(2,2), strides = (2,2)))"
      ]
    },
    {
      "cell_type": "markdown",
      "metadata": {
        "id": "SEy_XI5BGQl4"
      },
      "source": [
        "¿Cuántos pesos tengo que entrenar en esta capa?..."
      ]
    },
    {
      "cell_type": "markdown",
      "metadata": {
        "id": "jQpSBwMyGQl4"
      },
      "source": [
        "¿Cuál es la \"resolución\" de salida y por tanto las features que tendremos (para ver la reducción)?:\n",
        "$$\\frac{28}{2}\\times \\frac{28}{2} \\times \\text{Numero de \"filtros\" de pooling}$$"
      ]
    },
    {
      "cell_type": "markdown",
      "metadata": {
        "id": "yn2BC7cKGQl4"
      },
      "source": [
        "¿Y cuantas capas de pooling si no hemos dicho nada? Las capas de pooling se adaptan a la capa que tengan \"delante\", en este caso esta capa de pooling tendrá 8 filtros o repeticiones porque es el número de filtros de la anterior capa (la convolucional). De todo esto se encarga `Keras`"
      ]
    },
    {
      "cell_type": "markdown",
      "metadata": {
        "id": "ZWJnP9FkGQl4"
      },
      "source": [
        "$$\\frac{28}{2}\\times \\frac{28}{2} \\times 8 = 6272/4 = 1568 \\text{ features}$$"
      ]
    },
    {
      "cell_type": "markdown",
      "metadata": {
        "id": "5T3tkanKGQl4"
      },
      "source": [
        "Que corresponden a la bajada a 14x14 la resolución de cada mapa de características ($\\frac{28}{2} \\times \\frac{28}{2}$)"
      ]
    },
    {
      "cell_type": "code",
      "execution_count": 161,
      "metadata": {
        "colab": {
          "base_uri": "https://localhost:8080/"
        },
        "id": "uYan5dDJGQl4",
        "outputId": "f0e40b14-fd21-493f-8295-aa2dbfc41eec"
      },
      "outputs": [
        {
          "output_type": "execute_result",
          "data": {
            "text/plain": [
              "1568"
            ]
          },
          "metadata": {},
          "execution_count": 161
        }
      ],
      "source": [
        "14*14*8"
      ]
    },
    {
      "cell_type": "markdown",
      "metadata": {
        "id": "nfrazVURGQl4"
      },
      "source": [
        "***"
      ]
    },
    {
      "cell_type": "markdown",
      "metadata": {
        "id": "toXDMR9_GQl4"
      },
      "source": [
        "### Dropout"
      ]
    },
    {
      "cell_type": "markdown",
      "metadata": {
        "id": "e8F0eryfGQl5"
      },
      "source": [
        "![image.png](attachment:9234b789-5e56-4d02-b19d-32d566666814.png)"
      ]
    },
    {
      "cell_type": "markdown",
      "metadata": {
        "id": "1H5W_eJUGQl5"
      },
      "source": [
        "Lo que toca ahora es crear esa misteriosa capa de DropOut. El dropout o poda es un técnica de regularización que consiste en seleccionar aleatoriamente unidades o neuronas que se \"eliminan\" (podan) en el entrenamiento. En cada batch se anulan las entradas a algunas de las neuronas de las capas que vienen tras una capa de dropout y eso consigue que el modelo se esfuerce más. Es por eso una técnica de regularización."
      ]
    },
    {
      "cell_type": "markdown",
      "metadata": {
        "id": "aT0WCW8NGQl5"
      },
      "source": [
        "![image.png](attachment:f5c0a179-c946-46d1-a339-d127c558586e.png)"
      ]
    },
    {
      "cell_type": "markdown",
      "metadata": {
        "id": "rGVhu8-FGQl5"
      },
      "source": [
        "Las capas de dropout se colocan cuando la red empieza a ser muy profunda o a expandir mucho sus features. Solo tienen un hiperparámetro que es su **ratio** que es el porcentaje de neuronas que se bloquean en cada batch. Suele estar entre 0.2 y 0.5 pero depende del número de unidades de la capa que va detrás (si tengo 2 unidades un dropout de más de 0.5 anula la capa por ejemplo)."
      ]
    },
    {
      "cell_type": "markdown",
      "metadata": {
        "id": "wXJISg8sGQl5"
      },
      "source": [
        "Otra caracterírstica importante, **sólo funcionan en el entrenamiento, en la inferencia o predicción las capas de dropout se quitan** (lo hace keras por nosotros). En definitiva lo que hacen es filtrar la entrada para escoger tantas como el ratio indique y ponerlas a cero a su salida que es la que se conecta con la siguiente capa."
      ]
    },
    {
      "cell_type": "markdown",
      "metadata": {
        "id": "qdJHLmLUGQl5"
      },
      "source": [
        "Para terminar, **no son entrenables** (no tienen parámetros).\n",
        "\n",
        "Creemos nuestra capa de dropout con un ratio del 0.25 (es decir vamos a anular el 25% de las salidas de la pareja convolucional-pooling que hemos definido ya):"
      ]
    },
    {
      "cell_type": "code",
      "execution_count": 162,
      "metadata": {
        "id": "stjpzm-7GQl5"
      },
      "outputs": [],
      "source": [
        "from keras.layers import Dropout\n",
        "\n",
        "model.add(Dropout(rate= 0.25))"
      ]
    },
    {
      "cell_type": "markdown",
      "metadata": {
        "id": "lK7BnIZdGQl5"
      },
      "source": [
        "Ahora construimos la siguiente sección:"
      ]
    },
    {
      "cell_type": "markdown",
      "metadata": {
        "id": "SR7iwYKnGQl5"
      },
      "source": [
        "![image.png](attachment:768491b6-b856-4826-869b-0588cd965898.png)"
      ]
    },
    {
      "cell_type": "code",
      "execution_count": 163,
      "metadata": {
        "_uuid": "c441d7b3852cee5d3636272d4da2f96b169f81ac",
        "scrolled": true,
        "id": "_wxbuopXGQl6"
      },
      "outputs": [],
      "source": [
        "model.add(Conv2D(filters = 16, kernel_size = (3,3),padding = 'Same',\n",
        "                 activation ='relu'))\n",
        "# Resolución a la salida: Igual stride(1,1) -> 14x14\n",
        "model.add(MaxPool2D(pool_size=(2,2), strides=(2,2)))\n",
        "# Resolución a la salida: 14/2 x 14/2 -> 7x7\n",
        "model.add(Dropout(0.25))\n",
        "\n"
      ]
    },
    {
      "cell_type": "markdown",
      "metadata": {
        "id": "P10ms-RsGQl6"
      },
      "source": [
        "Y ahora la \"cabeza\" de la red donde realmente se va a hacer ya la clasificación a partir de todas las features que nos ha creado nuestra parte convolucional:"
      ]
    },
    {
      "cell_type": "markdown",
      "metadata": {
        "id": "YtYka7VZGQl6"
      },
      "source": [
        "![image.png](attachment:03201595-0a32-4591-bce2-f5bd8a114f0c.png)"
      ]
    },
    {
      "cell_type": "markdown",
      "metadata": {
        "id": "-1oM--NLGQl6"
      },
      "source": [
        "Observa que añadimos primero el aplanamiento de la salida de los filtros de pooling para poder atacar a la densa... Este flatten no es cualquier flatten porque no solo aplana los 7x7 en 49 sino que además concatena cada mapa o filtro (que ahora son 16), es decir a la salida de la capa Flatten tendremos:\n"
      ]
    },
    {
      "cell_type": "code",
      "source": [
        "model.layers"
      ],
      "metadata": {
        "colab": {
          "base_uri": "https://localhost:8080/"
        },
        "id": "VKPjISRsIG0G",
        "outputId": "5a27358c-eeb4-4852-9130-2d028e96aca4"
      },
      "execution_count": 164,
      "outputs": [
        {
          "output_type": "execute_result",
          "data": {
            "text/plain": [
              "[<Conv2D name=conv2d_12, built=True>,\n",
              " <MaxPooling2D name=max_pooling2d_12, built=True>,\n",
              " <Dropout name=dropout_13, built=True>,\n",
              " <Conv2D name=conv2d_13, built=True>,\n",
              " <MaxPooling2D name=max_pooling2d_13, built=True>,\n",
              " <Dropout name=dropout_14, built=True>]"
            ]
          },
          "metadata": {},
          "execution_count": 164
        }
      ]
    },
    {
      "cell_type": "code",
      "source": [
        "model.input_shape"
      ],
      "metadata": {
        "colab": {
          "base_uri": "https://localhost:8080/"
        },
        "id": "Nvat_RjZS7A-",
        "outputId": "849c2b20-7c89-4805-dc8f-158acfb846f4"
      },
      "execution_count": 165,
      "outputs": [
        {
          "output_type": "execute_result",
          "data": {
            "text/plain": [
              "(None, 28, 28, 1)"
            ]
          },
          "metadata": {},
          "execution_count": 165
        }
      ]
    },
    {
      "cell_type": "code",
      "execution_count": 166,
      "metadata": {
        "colab": {
          "base_uri": "https://localhost:8080/"
        },
        "id": "17uEkMmpGQl6",
        "outputId": "bc459516-2349-41d0-e753-8a279379fcd1"
      },
      "outputs": [
        {
          "output_type": "stream",
          "name": "stdout",
          "text": [
            "Entrada de la capa flatten: (None, 28, 28, 1)\n",
            "Salida de la capa flatten: (None, 784)\n"
          ]
        }
      ],
      "source": [
        "from keras.layers import Flatten, Dense\n",
        "\n",
        "print(\"Entrada de la capa flatten:\", model.input_shape)\n",
        "\n",
        "model.add(Flatten()) # 49 features * Número de filtros o mapas de características -> 49*16 = 784 features -> Volvemos a las features de entrada, esto es muy típico\n",
        "\n",
        "print(\"Salida de la capa flatten:\",model.output_shape)\n",
        "\n",
        "model.add(Dense(256, activation = \"relu\"))\n",
        "# Pesos aquí (49*16+1)*256\n",
        "model.add(Dropout(0.5))\n",
        "model.add(Dense(10, activation = \"softmax\"))\n",
        "# Pesos aquí (256+1)*10\n",
        "\n",
        "\n"
      ]
    },
    {
      "cell_type": "markdown",
      "metadata": {
        "id": "Ta45pXFCGQl6"
      },
      "source": [
        "Pues ya tenemos la primera y más farragosa de las elecciones de hiperparámetros. Tenemos la topología continuemos con el optimizador, compilemos y entrenemos.\n",
        "***"
      ]
    },
    {
      "cell_type": "markdown",
      "metadata": {
        "id": "r1JXF6B_GQl6"
      },
      "source": [
        "### Optimizador"
      ]
    },
    {
      "cell_type": "markdown",
      "metadata": {
        "id": "Cks35_BJGQl7"
      },
      "source": [
        "Para **el optimizador** lo habitual ahora es emplear el **\"Adam\"** siempre que tengamos un size del dataset de entrenamiento bastante grande:"
      ]
    },
    {
      "cell_type": "code",
      "execution_count": 167,
      "metadata": {
        "colab": {
          "base_uri": "https://localhost:8080/"
        },
        "id": "SL__gQztGQl7",
        "outputId": "4bdb118a-445a-4b35-c7cc-3d4c6d2ffc80"
      },
      "outputs": [
        {
          "output_type": "execute_result",
          "data": {
            "text/plain": [
              "13171200"
            ]
          },
          "metadata": {},
          "execution_count": 167
        }
      ],
      "source": [
        "X_train.size"
      ]
    },
    {
      "cell_type": "markdown",
      "metadata": {
        "id": "ztsgFrABGQl7"
      },
      "source": [
        "Sí, tiene más de un millón de datos, escogemos \"Adam\".\n",
        "\n",
        "Ahora el hiperparámetros común a todos los optimizadores **el leraning rate**: En este caso empezaremos con un buen warm-up (Calentamiento es decir con un learning rate bajo), 0.001\n",
        "\n",
        "Además \"Adam\" es un optimizador que tiene otros hiperparámetros para controlar la forma en que evolucioan algunos de sus cálculos con el tiempo son los **hiperparámetros: beta1 y beta2** pero que vamos a dejar a sus valores por defecto (0.9 y 0.999, respectivamente). Puedes ahondar más en los optimizadores [aqui](https://keras.io/api/optimizers/)"
      ]
    },
    {
      "cell_type": "code",
      "execution_count": 168,
      "metadata": {
        "id": "EL66P8jNGQl7"
      },
      "outputs": [],
      "source": [
        "from keras.optimizers import Adam\n",
        "\n",
        "optimizer = Adam(learning_rate =0.001, beta_1=0.9, beta_2=0.999) #Son los parámetros por defecto, no tendríamos que haberlos indicado siquiera."
      ]
    },
    {
      "cell_type": "markdown",
      "metadata": {
        "id": "bczk7WECGQl7"
      },
      "source": [
        "### Compilamos el modelo"
      ]
    },
    {
      "cell_type": "markdown",
      "metadata": {
        "id": "BF_gqFXFGQl7"
      },
      "source": [
        "Keras y Tensorflow exigen la compilación del modelo, no son dinámicos y en esa compilación tenemos que indicarle el optimizador ya creado y la función de pérdida y la métricas:\n",
        "\n",
        "* Optimizador: Adam, ya configurado.\n",
        "* Loss: sparse_categorical_crossentropy (Porque tenemos como target un escalar, si fuera un vector (con un valor por cada clase) tendría que ser \"categorical_crossentropy\")\n",
        "* Metrica: \"accuracy\" (porque el dataset está equilibrado)"
      ]
    },
    {
      "cell_type": "code",
      "execution_count": 169,
      "metadata": {
        "_uuid": "0d1eefc68470b4cdcec04c2570651da3d97676d0",
        "id": "OiUOw3d4GQl7"
      },
      "outputs": [],
      "source": [
        "# Compile the model\n",
        "#model.compile(optimizer = optimizer , loss = \"categorical_crossentropy\", metrics=[\"accuracy\"], run_eagerly= True)\n",
        "model.compile(optimizer = optimizer , loss = \"sparse_categorical_crossentropy\", metrics=[\"accuracy\"])"
      ]
    },
    {
      "cell_type": "code",
      "execution_count": 170,
      "metadata": {
        "colab": {
          "base_uri": "https://localhost:8080/",
          "height": 449
        },
        "id": "BkfRuG-EGQl7",
        "outputId": "07f7b22e-66b8-47be-f5c5-f45c49271e7e"
      },
      "outputs": [
        {
          "output_type": "display_data",
          "data": {
            "text/plain": [
              "\u001b[1mModel: \"sequential_6\"\u001b[0m\n"
            ],
            "text/html": [
              "<pre style=\"white-space:pre;overflow-x:auto;line-height:normal;font-family:Menlo,'DejaVu Sans Mono',consolas,'Courier New',monospace\"><span style=\"font-weight: bold\">Model: \"sequential_6\"</span>\n",
              "</pre>\n"
            ]
          },
          "metadata": {}
        },
        {
          "output_type": "display_data",
          "data": {
            "text/plain": [
              "┏━━━━━━━━━━━━━━━━━━━━━━━━━━━━━━━━━━━━━━┳━━━━━━━━━━━━━━━━━━━━━━━━━━━━━┳━━━━━━━━━━━━━━━━━┓\n",
              "┃\u001b[1m \u001b[0m\u001b[1mLayer (type)                        \u001b[0m\u001b[1m \u001b[0m┃\u001b[1m \u001b[0m\u001b[1mOutput Shape               \u001b[0m\u001b[1m \u001b[0m┃\u001b[1m \u001b[0m\u001b[1m        Param #\u001b[0m\u001b[1m \u001b[0m┃\n",
              "┡━━━━━━━━━━━━━━━━━━━━━━━━━━━━━━━━━━━━━━╇━━━━━━━━━━━━━━━━━━━━━━━━━━━━━╇━━━━━━━━━━━━━━━━━┩\n",
              "│ conv2d_12 (\u001b[38;5;33mConv2D\u001b[0m)                   │ (\u001b[38;5;45mNone\u001b[0m, \u001b[38;5;34m28\u001b[0m, \u001b[38;5;34m28\u001b[0m, \u001b[38;5;34m8\u001b[0m)           │             \u001b[38;5;34m208\u001b[0m │\n",
              "├──────────────────────────────────────┼─────────────────────────────┼─────────────────┤\n",
              "│ max_pooling2d_12 (\u001b[38;5;33mMaxPooling2D\u001b[0m)      │ (\u001b[38;5;45mNone\u001b[0m, \u001b[38;5;34m14\u001b[0m, \u001b[38;5;34m14\u001b[0m, \u001b[38;5;34m8\u001b[0m)           │               \u001b[38;5;34m0\u001b[0m │\n",
              "├──────────────────────────────────────┼─────────────────────────────┼─────────────────┤\n",
              "│ dropout_13 (\u001b[38;5;33mDropout\u001b[0m)                 │ (\u001b[38;5;45mNone\u001b[0m, \u001b[38;5;34m14\u001b[0m, \u001b[38;5;34m14\u001b[0m, \u001b[38;5;34m8\u001b[0m)           │               \u001b[38;5;34m0\u001b[0m │\n",
              "├──────────────────────────────────────┼─────────────────────────────┼─────────────────┤\n",
              "│ conv2d_13 (\u001b[38;5;33mConv2D\u001b[0m)                   │ (\u001b[38;5;45mNone\u001b[0m, \u001b[38;5;34m14\u001b[0m, \u001b[38;5;34m14\u001b[0m, \u001b[38;5;34m16\u001b[0m)          │           \u001b[38;5;34m1,168\u001b[0m │\n",
              "├──────────────────────────────────────┼─────────────────────────────┼─────────────────┤\n",
              "│ max_pooling2d_13 (\u001b[38;5;33mMaxPooling2D\u001b[0m)      │ (\u001b[38;5;45mNone\u001b[0m, \u001b[38;5;34m7\u001b[0m, \u001b[38;5;34m7\u001b[0m, \u001b[38;5;34m16\u001b[0m)            │               \u001b[38;5;34m0\u001b[0m │\n",
              "├──────────────────────────────────────┼─────────────────────────────┼─────────────────┤\n",
              "│ dropout_14 (\u001b[38;5;33mDropout\u001b[0m)                 │ (\u001b[38;5;45mNone\u001b[0m, \u001b[38;5;34m7\u001b[0m, \u001b[38;5;34m7\u001b[0m, \u001b[38;5;34m16\u001b[0m)            │               \u001b[38;5;34m0\u001b[0m │\n",
              "├──────────────────────────────────────┼─────────────────────────────┼─────────────────┤\n",
              "│ flatten_2 (\u001b[38;5;33mFlatten\u001b[0m)                  │ (\u001b[38;5;45mNone\u001b[0m, \u001b[38;5;34m784\u001b[0m)                 │               \u001b[38;5;34m0\u001b[0m │\n",
              "├──────────────────────────────────────┼─────────────────────────────┼─────────────────┤\n",
              "│ dense_2 (\u001b[38;5;33mDense\u001b[0m)                      │ (\u001b[38;5;45mNone\u001b[0m, \u001b[38;5;34m256\u001b[0m)                 │         \u001b[38;5;34m200,960\u001b[0m │\n",
              "├──────────────────────────────────────┼─────────────────────────────┼─────────────────┤\n",
              "│ dropout_15 (\u001b[38;5;33mDropout\u001b[0m)                 │ (\u001b[38;5;45mNone\u001b[0m, \u001b[38;5;34m256\u001b[0m)                 │               \u001b[38;5;34m0\u001b[0m │\n",
              "├──────────────────────────────────────┼─────────────────────────────┼─────────────────┤\n",
              "│ dense_3 (\u001b[38;5;33mDense\u001b[0m)                      │ (\u001b[38;5;45mNone\u001b[0m, \u001b[38;5;34m10\u001b[0m)                  │           \u001b[38;5;34m2,570\u001b[0m │\n",
              "└──────────────────────────────────────┴─────────────────────────────┴─────────────────┘\n"
            ],
            "text/html": [
              "<pre style=\"white-space:pre;overflow-x:auto;line-height:normal;font-family:Menlo,'DejaVu Sans Mono',consolas,'Courier New',monospace\">┏━━━━━━━━━━━━━━━━━━━━━━━━━━━━━━━━━━━━━━┳━━━━━━━━━━━━━━━━━━━━━━━━━━━━━┳━━━━━━━━━━━━━━━━━┓\n",
              "┃<span style=\"font-weight: bold\"> Layer (type)                         </span>┃<span style=\"font-weight: bold\"> Output Shape                </span>┃<span style=\"font-weight: bold\">         Param # </span>┃\n",
              "┡━━━━━━━━━━━━━━━━━━━━━━━━━━━━━━━━━━━━━━╇━━━━━━━━━━━━━━━━━━━━━━━━━━━━━╇━━━━━━━━━━━━━━━━━┩\n",
              "│ conv2d_12 (<span style=\"color: #0087ff; text-decoration-color: #0087ff\">Conv2D</span>)                   │ (<span style=\"color: #00d7ff; text-decoration-color: #00d7ff\">None</span>, <span style=\"color: #00af00; text-decoration-color: #00af00\">28</span>, <span style=\"color: #00af00; text-decoration-color: #00af00\">28</span>, <span style=\"color: #00af00; text-decoration-color: #00af00\">8</span>)           │             <span style=\"color: #00af00; text-decoration-color: #00af00\">208</span> │\n",
              "├──────────────────────────────────────┼─────────────────────────────┼─────────────────┤\n",
              "│ max_pooling2d_12 (<span style=\"color: #0087ff; text-decoration-color: #0087ff\">MaxPooling2D</span>)      │ (<span style=\"color: #00d7ff; text-decoration-color: #00d7ff\">None</span>, <span style=\"color: #00af00; text-decoration-color: #00af00\">14</span>, <span style=\"color: #00af00; text-decoration-color: #00af00\">14</span>, <span style=\"color: #00af00; text-decoration-color: #00af00\">8</span>)           │               <span style=\"color: #00af00; text-decoration-color: #00af00\">0</span> │\n",
              "├──────────────────────────────────────┼─────────────────────────────┼─────────────────┤\n",
              "│ dropout_13 (<span style=\"color: #0087ff; text-decoration-color: #0087ff\">Dropout</span>)                 │ (<span style=\"color: #00d7ff; text-decoration-color: #00d7ff\">None</span>, <span style=\"color: #00af00; text-decoration-color: #00af00\">14</span>, <span style=\"color: #00af00; text-decoration-color: #00af00\">14</span>, <span style=\"color: #00af00; text-decoration-color: #00af00\">8</span>)           │               <span style=\"color: #00af00; text-decoration-color: #00af00\">0</span> │\n",
              "├──────────────────────────────────────┼─────────────────────────────┼─────────────────┤\n",
              "│ conv2d_13 (<span style=\"color: #0087ff; text-decoration-color: #0087ff\">Conv2D</span>)                   │ (<span style=\"color: #00d7ff; text-decoration-color: #00d7ff\">None</span>, <span style=\"color: #00af00; text-decoration-color: #00af00\">14</span>, <span style=\"color: #00af00; text-decoration-color: #00af00\">14</span>, <span style=\"color: #00af00; text-decoration-color: #00af00\">16</span>)          │           <span style=\"color: #00af00; text-decoration-color: #00af00\">1,168</span> │\n",
              "├──────────────────────────────────────┼─────────────────────────────┼─────────────────┤\n",
              "│ max_pooling2d_13 (<span style=\"color: #0087ff; text-decoration-color: #0087ff\">MaxPooling2D</span>)      │ (<span style=\"color: #00d7ff; text-decoration-color: #00d7ff\">None</span>, <span style=\"color: #00af00; text-decoration-color: #00af00\">7</span>, <span style=\"color: #00af00; text-decoration-color: #00af00\">7</span>, <span style=\"color: #00af00; text-decoration-color: #00af00\">16</span>)            │               <span style=\"color: #00af00; text-decoration-color: #00af00\">0</span> │\n",
              "├──────────────────────────────────────┼─────────────────────────────┼─────────────────┤\n",
              "│ dropout_14 (<span style=\"color: #0087ff; text-decoration-color: #0087ff\">Dropout</span>)                 │ (<span style=\"color: #00d7ff; text-decoration-color: #00d7ff\">None</span>, <span style=\"color: #00af00; text-decoration-color: #00af00\">7</span>, <span style=\"color: #00af00; text-decoration-color: #00af00\">7</span>, <span style=\"color: #00af00; text-decoration-color: #00af00\">16</span>)            │               <span style=\"color: #00af00; text-decoration-color: #00af00\">0</span> │\n",
              "├──────────────────────────────────────┼─────────────────────────────┼─────────────────┤\n",
              "│ flatten_2 (<span style=\"color: #0087ff; text-decoration-color: #0087ff\">Flatten</span>)                  │ (<span style=\"color: #00d7ff; text-decoration-color: #00d7ff\">None</span>, <span style=\"color: #00af00; text-decoration-color: #00af00\">784</span>)                 │               <span style=\"color: #00af00; text-decoration-color: #00af00\">0</span> │\n",
              "├──────────────────────────────────────┼─────────────────────────────┼─────────────────┤\n",
              "│ dense_2 (<span style=\"color: #0087ff; text-decoration-color: #0087ff\">Dense</span>)                      │ (<span style=\"color: #00d7ff; text-decoration-color: #00d7ff\">None</span>, <span style=\"color: #00af00; text-decoration-color: #00af00\">256</span>)                 │         <span style=\"color: #00af00; text-decoration-color: #00af00\">200,960</span> │\n",
              "├──────────────────────────────────────┼─────────────────────────────┼─────────────────┤\n",
              "│ dropout_15 (<span style=\"color: #0087ff; text-decoration-color: #0087ff\">Dropout</span>)                 │ (<span style=\"color: #00d7ff; text-decoration-color: #00d7ff\">None</span>, <span style=\"color: #00af00; text-decoration-color: #00af00\">256</span>)                 │               <span style=\"color: #00af00; text-decoration-color: #00af00\">0</span> │\n",
              "├──────────────────────────────────────┼─────────────────────────────┼─────────────────┤\n",
              "│ dense_3 (<span style=\"color: #0087ff; text-decoration-color: #0087ff\">Dense</span>)                      │ (<span style=\"color: #00d7ff; text-decoration-color: #00d7ff\">None</span>, <span style=\"color: #00af00; text-decoration-color: #00af00\">10</span>)                  │           <span style=\"color: #00af00; text-decoration-color: #00af00\">2,570</span> │\n",
              "└──────────────────────────────────────┴─────────────────────────────┴─────────────────┘\n",
              "</pre>\n"
            ]
          },
          "metadata": {}
        },
        {
          "output_type": "display_data",
          "data": {
            "text/plain": [
              "\u001b[1m Total params: \u001b[0m\u001b[38;5;34m204,906\u001b[0m (800.41 KB)\n"
            ],
            "text/html": [
              "<pre style=\"white-space:pre;overflow-x:auto;line-height:normal;font-family:Menlo,'DejaVu Sans Mono',consolas,'Courier New',monospace\"><span style=\"font-weight: bold\"> Total params: </span><span style=\"color: #00af00; text-decoration-color: #00af00\">204,906</span> (800.41 KB)\n",
              "</pre>\n"
            ]
          },
          "metadata": {}
        },
        {
          "output_type": "display_data",
          "data": {
            "text/plain": [
              "\u001b[1m Trainable params: \u001b[0m\u001b[38;5;34m204,906\u001b[0m (800.41 KB)\n"
            ],
            "text/html": [
              "<pre style=\"white-space:pre;overflow-x:auto;line-height:normal;font-family:Menlo,'DejaVu Sans Mono',consolas,'Courier New',monospace\"><span style=\"font-weight: bold\"> Trainable params: </span><span style=\"color: #00af00; text-decoration-color: #00af00\">204,906</span> (800.41 KB)\n",
              "</pre>\n"
            ]
          },
          "metadata": {}
        },
        {
          "output_type": "display_data",
          "data": {
            "text/plain": [
              "\u001b[1m Non-trainable params: \u001b[0m\u001b[38;5;34m0\u001b[0m (0.00 B)\n"
            ],
            "text/html": [
              "<pre style=\"white-space:pre;overflow-x:auto;line-height:normal;font-family:Menlo,'DejaVu Sans Mono',consolas,'Courier New',monospace\"><span style=\"font-weight: bold\"> Non-trainable params: </span><span style=\"color: #00af00; text-decoration-color: #00af00\">0</span> (0.00 B)\n",
              "</pre>\n"
            ]
          },
          "metadata": {}
        }
      ],
      "source": [
        "model.summary()"
      ]
    },
    {
      "cell_type": "markdown",
      "metadata": {
        "id": "TRzRpF3VGQl8"
      },
      "source": [
        "### Entrenamiento"
      ]
    },
    {
      "cell_type": "markdown",
      "metadata": {
        "id": "tc6uyWPvGQl8"
      },
      "source": [
        "Pues casi estamos:\n",
        "* Batch size, usaríamos 32, pero tenemos bastantes muestras así que vamos a subirlo a 128, si es demasiado (resultados \"flojos\") lo podemos bajar, pero esto acelera el entrenamiento.\n",
        "* Epochs, podríamos usar un callback de earlystop pero lo ponemos a 10 y ya ajustaremos si es necesario.\n",
        "* Porcentaje de validación, 0.2 para ahorrarnos crear el dataset de validación\n"
      ]
    },
    {
      "cell_type": "code",
      "execution_count": 171,
      "metadata": {
        "colab": {
          "base_uri": "https://localhost:8080/"
        },
        "id": "8Z5FC5nzGQl8",
        "outputId": "9e91cd1b-587a-44b6-c8c9-f87cfd7dfe8f"
      },
      "outputs": [
        {
          "output_type": "execute_result",
          "data": {
            "text/plain": [
              "(16800, 28, 28)"
            ]
          },
          "metadata": {},
          "execution_count": 171
        }
      ],
      "source": [
        "X_train.shape"
      ]
    },
    {
      "cell_type": "code",
      "execution_count": 172,
      "metadata": {
        "id": "85c6kv71GQl8"
      },
      "outputs": [],
      "source": [
        "batch_size = 128\n",
        "epochs = 10\n",
        "validation_split = 0.2"
      ]
    },
    {
      "cell_type": "code",
      "execution_count": 173,
      "metadata": {
        "scrolled": true,
        "colab": {
          "base_uri": "https://localhost:8080/"
        },
        "id": "ukLaax_SGQl8",
        "outputId": "5b9f849a-db7b-4c0c-8bdb-e64b3fb9fcfb"
      },
      "outputs": [
        {
          "output_type": "stream",
          "name": "stdout",
          "text": [
            "Epoch 1/10\n",
            "\u001b[1m105/105\u001b[0m \u001b[32m━━━━━━━━━━━━━━━━━━━━\u001b[0m\u001b[37m\u001b[0m \u001b[1m12s\u001b[0m 100ms/step - accuracy: 0.4757 - loss: 1.5399 - val_accuracy: 0.9030 - val_loss: 0.3691\n",
            "Epoch 2/10\n",
            "\u001b[1m105/105\u001b[0m \u001b[32m━━━━━━━━━━━━━━━━━━━━\u001b[0m\u001b[37m\u001b[0m \u001b[1m8s\u001b[0m 80ms/step - accuracy: 0.8594 - loss: 0.4482 - val_accuracy: 0.9438 - val_loss: 0.1929\n",
            "Epoch 3/10\n",
            "\u001b[1m105/105\u001b[0m \u001b[32m━━━━━━━━━━━━━━━━━━━━\u001b[0m\u001b[37m\u001b[0m \u001b[1m12s\u001b[0m 95ms/step - accuracy: 0.9136 - loss: 0.2733 - val_accuracy: 0.9548 - val_loss: 0.1391\n",
            "Epoch 4/10\n",
            "\u001b[1m105/105\u001b[0m \u001b[32m━━━━━━━━━━━━━━━━━━━━\u001b[0m\u001b[37m\u001b[0m \u001b[1m14s\u001b[0m 130ms/step - accuracy: 0.9293 - loss: 0.2270 - val_accuracy: 0.9649 - val_loss: 0.1159\n",
            "Epoch 5/10\n",
            "\u001b[1m105/105\u001b[0m \u001b[32m━━━━━━━━━━━━━━━━━━━━\u001b[0m\u001b[37m\u001b[0m \u001b[1m18s\u001b[0m 102ms/step - accuracy: 0.9365 - loss: 0.2011 - val_accuracy: 0.9670 - val_loss: 0.0983\n",
            "Epoch 6/10\n",
            "\u001b[1m105/105\u001b[0m \u001b[32m━━━━━━━━━━━━━━━━━━━━\u001b[0m\u001b[37m\u001b[0m \u001b[1m20s\u001b[0m 97ms/step - accuracy: 0.9440 - loss: 0.1727 - val_accuracy: 0.9708 - val_loss: 0.0906\n",
            "Epoch 7/10\n",
            "\u001b[1m105/105\u001b[0m \u001b[32m━━━━━━━━━━━━━━━━━━━━\u001b[0m\u001b[37m\u001b[0m \u001b[1m8s\u001b[0m 77ms/step - accuracy: 0.9444 - loss: 0.1648 - val_accuracy: 0.9747 - val_loss: 0.0817\n",
            "Epoch 8/10\n",
            "\u001b[1m105/105\u001b[0m \u001b[32m━━━━━━━━━━━━━━━━━━━━\u001b[0m\u001b[37m\u001b[0m \u001b[1m12s\u001b[0m 92ms/step - accuracy: 0.9535 - loss: 0.1502 - val_accuracy: 0.9759 - val_loss: 0.0753\n",
            "Epoch 9/10\n",
            "\u001b[1m105/105\u001b[0m \u001b[32m━━━━━━━━━━━━━━━━━━━━\u001b[0m\u001b[37m\u001b[0m \u001b[1m11s\u001b[0m 96ms/step - accuracy: 0.9551 - loss: 0.1442 - val_accuracy: 0.9762 - val_loss: 0.0720\n",
            "Epoch 10/10\n",
            "\u001b[1m105/105\u001b[0m \u001b[32m━━━━━━━━━━━━━━━━━━━━\u001b[0m\u001b[37m\u001b[0m \u001b[1m9s\u001b[0m 80ms/step - accuracy: 0.9587 - loss: 0.1295 - val_accuracy: 0.9777 - val_loss: 0.0659\n"
          ]
        }
      ],
      "source": [
        "history = model.fit(X_train, y_train, batch_size = batch_size, epochs= epochs, validation_split= validation_split)"
      ]
    },
    {
      "cell_type": "markdown",
      "metadata": {
        "id": "uzgu7mxRGQl8"
      },
      "source": [
        "No tiene mala pinta :-)\n",
        "\n",
        "Veamos la historia del entrenamiento:"
      ]
    },
    {
      "cell_type": "code",
      "execution_count": 174,
      "metadata": {
        "colab": {
          "base_uri": "https://localhost:8080/",
          "height": 449
        },
        "id": "PeH8vq_OGQl8",
        "outputId": "934597dd-458f-4cdf-9300-0b75851d7aac"
      },
      "outputs": [
        {
          "output_type": "display_data",
          "data": {
            "text/plain": [
              "<Figure size 640x480 with 1 Axes>"
            ],
            "image/png": "[encoded data removed]"
          },
          "metadata": {}
        }
      ],
      "source": [
        "history_df = pd.DataFrame(history.history)\n",
        "history_df[[\"loss\",\"val_loss\"]].plot();\n",
        "plt.xlabel(\"epochs\")\n",
        "plt.ylabel(\"loss\");"
      ]
    },
    {
      "cell_type": "code",
      "execution_count": 175,
      "metadata": {
        "colab": {
          "base_uri": "https://localhost:8080/",
          "height": 363
        },
        "id": "ZweL_n27GQl8",
        "outputId": "becffc7a-7758-4f1d-8b76-1b5fea52cfea"
      },
      "outputs": [
        {
          "output_type": "execute_result",
          "data": {
            "text/plain": [
              "   accuracy      loss  val_accuracy  val_loss\n",
              "0  0.645982  1.059199      0.902976  0.369125\n",
              "1  0.872768  0.403215      0.943750  0.192867\n",
              "2  0.916295  0.267649      0.954762  0.139061\n",
              "3  0.931250  0.220070      0.964881  0.115888\n",
              "4  0.935863  0.198535      0.966964  0.098342\n",
              "5  0.944196  0.175860      0.970833  0.090569\n",
              "6  0.947321  0.161150      0.974702  0.081721\n",
              "7  0.956324  0.142620      0.975893  0.075263\n",
              "8  0.956473  0.136823      0.976190  0.071970\n",
              "9  0.957887  0.128981      0.977679  0.065936"
            ],
            "text/html": [
              "\n",
              "  <div id=\"df-a796aa2c-a6e9-4065-841f-22b5a61e2370\" class=\"colab-df-container\">\n",
              "    <div>\n",
              "<style scoped>\n",
              "    .dataframe tbody tr th:only-of-type {\n",
              "        vertical-align: middle;\n",
              "    }\n",
              "\n",
              "    .dataframe tbody tr th {\n",
              "        vertical-align: top;\n",
              "    }\n",
              "\n",
              "    .dataframe thead th {\n",
              "        text-align: right;\n",
              "    }\n",
              "</style>\n",
              "<table border=\"1\" class=\"dataframe\">\n",
              "  <thead>\n",
              "    <tr style=\"text-align: right;\">\n",
              "      <th></th>\n",
              "      <th>accuracy</th>\n",
              "      <th>loss</th>\n",
              "      <th>val_accuracy</th>\n",
              "      <th>val_loss</th>\n",
              "    </tr>\n",
              "  </thead>\n",
              "  <tbody>\n",
              "    <tr>\n",
              "      <th>0</th>\n",
              "      <td>0.645982</td>\n",
              "      <td>1.059199</td>\n",
              "      <td>0.902976</td>\n",
              "      <td>0.369125</td>\n",
              "    </tr>\n",
              "    <tr>\n",
              "      <th>1</th>\n",
              "      <td>0.872768</td>\n",
              "      <td>0.403215</td>\n",
              "      <td>0.943750</td>\n",
              "      <td>0.192867</td>\n",
              "    </tr>\n",
              "    <tr>\n",
              "      <th>2</th>\n",
              "      <td>0.916295</td>\n",
              "      <td>0.267649</td>\n",
              "      <td>0.954762</td>\n",
              "      <td>0.139061</td>\n",
              "    </tr>\n",
              "    <tr>\n",
              "      <th>3</th>\n",
              "      <td>0.931250</td>\n",
              "      <td>0.220070</td>\n",
              "      <td>0.964881</td>\n",
              "      <td>0.115888</td>\n",
              "    </tr>\n",
              "    <tr>\n",
              "      <th>4</th>\n",
              "      <td>0.935863</td>\n",
              "      <td>0.198535</td>\n",
              "      <td>0.966964</td>\n",
              "      <td>0.098342</td>\n",
              "    </tr>\n",
              "    <tr>\n",
              "      <th>5</th>\n",
              "      <td>0.944196</td>\n",
              "      <td>0.175860</td>\n",
              "      <td>0.970833</td>\n",
              "      <td>0.090569</td>\n",
              "    </tr>\n",
              "    <tr>\n",
              "      <th>6</th>\n",
              "      <td>0.947321</td>\n",
              "      <td>0.161150</td>\n",
              "      <td>0.974702</td>\n",
              "      <td>0.081721</td>\n",
              "    </tr>\n",
              "    <tr>\n",
              "      <th>7</th>\n",
              "      <td>0.956324</td>\n",
              "      <td>0.142620</td>\n",
              "      <td>0.975893</td>\n",
              "      <td>0.075263</td>\n",
              "    </tr>\n",
              "    <tr>\n",
              "      <th>8</th>\n",
              "      <td>0.956473</td>\n",
              "      <td>0.136823</td>\n",
              "      <td>0.976190</td>\n",
              "      <td>0.071970</td>\n",
              "    </tr>\n",
              "    <tr>\n",
              "      <th>9</th>\n",
              "      <td>0.957887</td>\n",
              "      <td>0.128981</td>\n",
              "      <td>0.977679</td>\n",
              "      <td>0.065936</td>\n",
              "    </tr>\n",
              "  </tbody>\n",
              "</table>\n",
              "</div>\n",
              "    <div class=\"colab-df-buttons\">\n",
              "\n",
              "  <div class=\"colab-df-container\">\n",
              "    <button class=\"colab-df-convert\" onclick=\"convertToInteractive('df-a796aa2c-a6e9-4065-841f-22b5a61e2370')\"\n",
              "            title=\"Convert this dataframe to an interactive table.\"\n",
              "            style=\"display:none;\">\n",
              "\n",
              "  <svg xmlns=\"http://www.w3.org/2000/svg\" height=\"24px\" viewBox=\"0 -960 960 960\">\n",
              "    <path d=\"M120-120v-720h720v720H120Zm60-500h600v-160H180v160Zm220 220h160v-160H400v160Zm0 220h160v-160H400v160ZM180-400h160v-160H180v160Zm440 0h160v-160H620v160ZM180-180h160v-160H180v160Zm440 0h160v-160H620v160Z\"/>\n",
              "  </svg>\n",
              "    </button>\n",
              "\n",
              "  <style>\n",
              "    .colab-df-container {\n",
              "      display:flex;\n",
              "      gap: 12px;\n",
              "    }\n",
              "\n",
              "    .colab-df-convert {\n",
              "      background-color: #E8F0FE;\n",
              "      border: none;\n",
              "      border-radius: 50%;\n",
              "      cursor: pointer;\n",
              "      display: none;\n",
              "      fill: #1967D2;\n",
              "      height: 32px;\n",
              "      padding: 0 0 0 0;\n",
              "      width: 32px;\n",
              "    }\n",
              "\n",
              "    .colab-df-convert:hover {\n",
              "      background-color: #E2EBFA;\n",
              "      box-shadow: 0px 1px 2px rgba(60, 64, 67, 0.3), 0px 1px 3px 1px rgba(60, 64, 67, 0.15);\n",
              "      fill: #174EA6;\n",
              "    }\n",
              "\n",
              "    .colab-df-buttons div {\n",
              "      margin-bottom: 4px;\n",
              "    }\n",
              "\n",
              "    [theme=dark] .colab-df-convert {\n",
              "      background-color: #3B4455;\n",
              "      fill: #D2E3FC;\n",
              "    }\n",
              "\n",
              "    [theme=dark] .colab-df-convert:hover {\n",
              "      background-color: #434B5C;\n",
              "      box-shadow: 0px 1px 3px 1px rgba(0, 0, 0, 0.15);\n",
              "      filter: drop-shadow(0px 1px 2px rgba(0, 0, 0, 0.3));\n",
              "      fill: #FFFFFF;\n",
              "    }\n",
              "  </style>\n",
              "\n",
              "    <script>\n",
              "      const buttonEl =\n",
              "        document.querySelector('#df-a796aa2c-a6e9-4065-841f-22b5a61e2370 button.colab-df-convert');\n",
              "      buttonEl.style.display =\n",
              "        google.colab.kernel.accessAllowed ? 'block' : 'none';\n",
              "\n",
              "      async function convertToInteractive(key) {\n",
              "        const element = document.querySelector('#df-a796aa2c-a6e9-4065-841f-22b5a61e2370');\n",
              "        const dataTable =\n",
              "          await google.colab.kernel.invokeFunction('convertToInteractive',\n",
              "                                                    [key], {});\n",
              "        if (!dataTable) return;\n",
              "\n",
              "        const docLinkHtml = 'Like what you see? Visit the ' +\n",
              "          '<a target=\"_blank\" href=https://colab.research.google.com/notebooks/data_table.ipynb>data table notebook</a>'\n",
              "          + ' to learn more about interactive tables.';\n",
              "        element.innerHTML = '';\n",
              "        dataTable['output_type'] = 'display_data';\n",
              "        await google.colab.output.renderOutput(dataTable, element);\n",
              "        const docLink = document.createElement('div');\n",
              "        docLink.innerHTML = docLinkHtml;\n",
              "        element.appendChild(docLink);\n",
              "      }\n",
              "    </script>\n",
              "  </div>\n",
              "\n",
              "\n",
              "<div id=\"df-cbfaa86f-6dd1-4e58-b72c-1d136a59f06c\">\n",
              "  <button class=\"colab-df-quickchart\" onclick=\"quickchart('df-cbfaa86f-6dd1-4e58-b72c-1d136a59f06c')\"\n",
              "            title=\"Suggest charts\"\n",
              "            style=\"display:none;\">\n",
              "\n",
              "<svg xmlns=\"http://www.w3.org/2000/svg\" height=\"24px\"viewBox=\"0 0 24 24\"\n",
              "     width=\"24px\">\n",
              "    <g>\n",
              "        <path d=\"M19 3H5c-1.1 0-2 .9-2 2v14c0 1.1.9 2 2 2h14c1.1 0 2-.9 2-2V5c0-1.1-.9-2-2-2zM9 17H7v-7h2v7zm4 0h-2V7h2v10zm4 0h-2v-4h2v4z\"/>\n",
              "    </g>\n",
              "</svg>\n",
              "  </button>\n",
              "\n",
              "<style>\n",
              "  .colab-df-quickchart {\n",
              "      --bg-color: #E8F0FE;\n",
              "      --fill-color: #1967D2;\n",
              "      --hover-bg-color: #E2EBFA;\n",
              "      --hover-fill-color: #174EA6;\n",
              "      --disabled-fill-color: #AAA;\n",
              "      --disabled-bg-color: #DDD;\n",
              "  }\n",
              "\n",
              "  [theme=dark] .colab-df-quickchart {\n",
              "      --bg-color: #3B4455;\n",
              "      --fill-color: #D2E3FC;\n",
              "      --hover-bg-color: #434B5C;\n",
              "      --hover-fill-color: #FFFFFF;\n",
              "      --disabled-bg-color: #3B4455;\n",
              "      --disabled-fill-color: #666;\n",
              "  }\n",
              "\n",
              "  .colab-df-quickchart {\n",
              "    background-color: var(--bg-color);\n",
              "    border: none;\n",
              "    border-radius: 50%;\n",
              "    cursor: pointer;\n",
              "    display: none;\n",
              "    fill: var(--fill-color);\n",
              "    height: 32px;\n",
              "    padding: 0;\n",
              "    width: 32px;\n",
              "  }\n",
              "\n",
              "  .colab-df-quickchart:hover {\n",
              "    background-color: var(--hover-bg-color);\n",
              "    box-shadow: 0 1px 2px rgba(60, 64, 67, 0.3), 0 1px 3px 1px rgba(60, 64, 67, 0.15);\n",
              "    fill: var(--button-hover-fill-color);\n",
              "  }\n",
              "\n",
              "  .colab-df-quickchart-complete:disabled,\n",
              "  .colab-df-quickchart-complete:disabled:hover {\n",
              "    background-color: var(--disabled-bg-color);\n",
              "    fill: var(--disabled-fill-color);\n",
              "    box-shadow: none;\n",
              "  }\n",
              "\n",
              "  .colab-df-spinner {\n",
              "    border: 2px solid var(--fill-color);\n",
              "    border-color: transparent;\n",
              "    border-bottom-color: var(--fill-color);\n",
              "    animation:\n",
              "      spin 1s steps(1) infinite;\n",
              "  }\n",
              "\n",
              "  @keyframes spin {\n",
              "    0% {\n",
              "      border-color: transparent;\n",
              "      border-bottom-color: var(--fill-color);\n",
              "      border-left-color: var(--fill-color);\n",
              "    }\n",
              "    20% {\n",
              "      border-color: transparent;\n",
              "      border-left-color: var(--fill-color);\n",
              "      border-top-color: var(--fill-color);\n",
              "    }\n",
              "    30% {\n",
              "      border-color: transparent;\n",
              "      border-left-color: var(--fill-color);\n",
              "      border-top-color: var(--fill-color);\n",
              "      border-right-color: var(--fill-color);\n",
              "    }\n",
              "    40% {\n",
              "      border-color: transparent;\n",
              "      border-right-color: var(--fill-color);\n",
              "      border-top-color: var(--fill-color);\n",
              "    }\n",
              "    60% {\n",
              "      border-color: transparent;\n",
              "      border-right-color: var(--fill-color);\n",
              "    }\n",
              "    80% {\n",
              "      border-color: transparent;\n",
              "      border-right-color: var(--fill-color);\n",
              "      border-bottom-color: var(--fill-color);\n",
              "    }\n",
              "    90% {\n",
              "      border-color: transparent;\n",
              "      border-bottom-color: var(--fill-color);\n",
              "    }\n",
              "  }\n",
              "</style>\n",
              "\n",
              "  <script>\n",
              "    async function quickchart(key) {\n",
              "      const quickchartButtonEl =\n",
              "        document.querySelector('#' + key + ' button');\n",
              "      quickchartButtonEl.disabled = true;  // To prevent multiple clicks.\n",
              "      quickchartButtonEl.classList.add('colab-df-spinner');\n",
              "      try {\n",
              "        const charts = await google.colab.kernel.invokeFunction(\n",
              "            'suggestCharts', [key], {});\n",
              "      } catch (error) {\n",
              "        console.error('Error during call to suggestCharts:', error);\n",
              "      }\n",
              "      quickchartButtonEl.classList.remove('colab-df-spinner');\n",
              "      quickchartButtonEl.classList.add('colab-df-quickchart-complete');\n",
              "    }\n",
              "    (() => {\n",
              "      let quickchartButtonEl =\n",
              "        document.querySelector('#df-cbfaa86f-6dd1-4e58-b72c-1d136a59f06c button');\n",
              "      quickchartButtonEl.style.display =\n",
              "        google.colab.kernel.accessAllowed ? 'block' : 'none';\n",
              "    })();\n",
              "  </script>\n",
              "</div>\n",
              "\n",
              "  <div id=\"id_2ceb0066-e6cc-492e-afb4-309e7a6f0515\">\n",
              "    <style>\n",
              "      .colab-df-generate {\n",
              "        background-color: #E8F0FE;\n",
              "        border: none;\n",
              "        border-radius: 50%;\n",
              "        cursor: pointer;\n",
              "        display: none;\n",
              "        fill: #1967D2;\n",
              "        height: 32px;\n",
              "        padding: 0 0 0 0;\n",
              "        width: 32px;\n",
              "      }\n",
              "\n",
              "      .colab-df-generate:hover {\n",
              "        background-color: #E2EBFA;\n",
              "        box-shadow: 0px 1px 2px rgba(60, 64, 67, 0.3), 0px 1px 3px 1px rgba(60, 64, 67, 0.15);\n",
              "        fill: #174EA6;\n",
              "      }\n",
              "\n",
              "      [theme=dark] .colab-df-generate {\n",
              "        background-color: #3B4455;\n",
              "        fill: #D2E3FC;\n",
              "      }\n",
              "\n",
              "      [theme=dark] .colab-df-generate:hover {\n",
              "        background-color: #434B5C;\n",
              "        box-shadow: 0px 1px 3px 1px rgba(0, 0, 0, 0.15);\n",
              "        filter: drop-shadow(0px 1px 2px rgba(0, 0, 0, 0.3));\n",
              "        fill: #FFFFFF;\n",
              "      }\n",
              "    </style>\n",
              "    <button class=\"colab-df-generate\" onclick=\"generateWithVariable('history_df')\"\n",
              "            title=\"Generate code using this dataframe.\"\n",
              "            style=\"display:none;\">\n",
              "\n",
              "  <svg xmlns=\"http://www.w3.org/2000/svg\" height=\"24px\"viewBox=\"0 0 24 24\"\n",
              "       width=\"24px\">\n",
              "    <path d=\"M7,19H8.4L18.45,9,17,7.55,7,17.6ZM5,21V16.75L18.45,3.32a2,2,0,0,1,2.83,0l1.4,1.43a1.91,1.91,0,0,1,.58,1.4,1.91,1.91,0,0,1-.58,1.4L9.25,21ZM18.45,9,17,7.55Zm-12,3A5.31,5.31,0,0,0,4.9,8.1,5.31,5.31,0,0,0,1,6.5,5.31,5.31,0,0,0,4.9,4.9,5.31,5.31,0,0,0,6.5,1,5.31,5.31,0,0,0,8.1,4.9,5.31,5.31,0,0,0,12,6.5,5.46,5.46,0,0,0,6.5,12Z\"/>\n",
              "  </svg>\n",
              "    </button>\n",
              "    <script>\n",
              "      (() => {\n",
              "      const buttonEl =\n",
              "        document.querySelector('#id_2ceb0066-e6cc-492e-afb4-309e7a6f0515 button.colab-df-generate');\n",
              "      buttonEl.style.display =\n",
              "        google.colab.kernel.accessAllowed ? 'block' : 'none';\n",
              "\n",
              "      buttonEl.onclick = () => {\n",
              "        google.colab.notebook.generateWithVariable('history_df');\n",
              "      }\n",
              "      })();\n",
              "    </script>\n",
              "  </div>\n",
              "\n",
              "    </div>\n",
              "  </div>\n"
            ],
            "application/vnd.google.colaboratory.intrinsic+json": {
              "type": "dataframe",
              "variable_name": "history_df",
              "summary": "{\n  \"name\": \"history_df\",\n  \"rows\": 10,\n  \"fields\": [\n    {\n      \"column\": \"accuracy\",\n      \"properties\": {\n        \"dtype\": \"number\",\n        \"std\": 0.09503559148122426,\n        \"min\": 0.6459821462631226,\n        \"max\": 0.9578869342803955,\n        \"num_unique_values\": 10,\n        \"samples\": [\n          0.9564732313156128,\n          0.8727678656578064,\n          0.9441964030265808\n        ],\n        \"semantic_type\": \"\",\n        \"description\": \"\"\n      }\n    },\n    {\n      \"column\": \"loss\",\n      \"properties\": {\n        \"dtype\": \"number\",\n        \"std\": 0.2826419358964817,\n        \"min\": 0.12898053228855133,\n        \"max\": 1.0591988563537598,\n        \"num_unique_values\": 10,\n        \"samples\": [\n          0.13682319223880768,\n          0.40321531891822815,\n          0.1758599579334259\n        ],\n        \"semantic_type\": \"\",\n        \"description\": \"\"\n      }\n    },\n    {\n      \"column\": \"val_accuracy\",\n      \"properties\": {\n        \"dtype\": \"number\",\n        \"std\": 0.023018962756343745,\n        \"min\": 0.9029762148857117,\n        \"max\": 0.9776785969734192,\n        \"num_unique_values\": 10,\n        \"samples\": [\n          0.976190447807312,\n          0.9437500238418579,\n          0.9708333611488342\n        ],\n        \"semantic_type\": \"\",\n        \"description\": \"\"\n      }\n    },\n    {\n      \"column\": \"val_loss\",\n      \"properties\": {\n        \"dtype\": \"number\",\n        \"std\": 0.09235807702335751,\n        \"min\": 0.06593620032072067,\n        \"max\": 0.3691253960132599,\n        \"num_unique_values\": 10,\n        \"samples\": [\n          0.07196961343288422,\n          0.19286666810512543,\n          0.09056929498910904\n        ],\n        \"semantic_type\": \"\",\n        \"description\": \"\"\n      }\n    }\n  ]\n}"
            }
          },
          "metadata": {},
          "execution_count": 175
        }
      ],
      "source": [
        "history_df"
      ]
    },
    {
      "cell_type": "code",
      "execution_count": 176,
      "metadata": {
        "colab": {
          "base_uri": "https://localhost:8080/",
          "height": 449
        },
        "id": "Y5vuogqmGQl8",
        "outputId": "f8b526fb-20d6-4412-a5eb-3f59b646d4d8"
      },
      "outputs": [
        {
          "output_type": "display_data",
          "data": {
            "text/plain": [
              "<Figure size 640x480 with 1 Axes>"
            ],
            "image/png": "[encoded data removed]"
          },
          "metadata": {}
        }
      ],
      "source": [
        "history_df = pd.DataFrame(history.history)\n",
        "history_df[[\"accuracy\",\"val_accuracy\"]].plot();\n",
        "plt.xlabel(\"epochs\")\n",
        "plt.ylabel(\"accuracy\");"
      ]
    },
    {
      "cell_type": "markdown",
      "metadata": {
        "id": "01eRBww0GQl9"
      },
      "source": [
        "En ambos casos, ya comenzó con una muy buenas prestaciones en validación frente al train, no suele ser así en el que el train converge hacia un validation mejor... Evaluemos el modelo contra test a ver que tal generaliza"
      ]
    },
    {
      "cell_type": "markdown",
      "metadata": {
        "scrolled": true,
        "id": "nrBFxa53GQl9"
      },
      "source": [
        "***"
      ]
    },
    {
      "cell_type": "markdown",
      "metadata": {
        "id": "_uzb0jDRGQl9"
      },
      "source": [
        "### Evaluación del modelo"
      ]
    },
    {
      "cell_type": "code",
      "execution_count": 177,
      "metadata": {
        "colab": {
          "base_uri": "https://localhost:8080/"
        },
        "id": "VN6gt1-gGQl9",
        "outputId": "341c7181-ff4f-4346-f1d7-a63a4868d912"
      },
      "outputs": [
        {
          "output_type": "stream",
          "name": "stdout",
          "text": [
            "\u001b[1m132/132\u001b[0m \u001b[32m━━━━━━━━━━━━━━━━━━━━\u001b[0m\u001b[37m\u001b[0m \u001b[1m1s\u001b[0m 8ms/step - accuracy: 0.9812 - loss: 0.0560\n"
          ]
        },
        {
          "output_type": "execute_result",
          "data": {
            "text/plain": [
              "[0.0685797929763794, 0.9773809313774109]"
            ]
          },
          "metadata": {},
          "execution_count": 177
        }
      ],
      "source": [
        "model.evaluate(X_test,y_test)"
      ]
    },
    {
      "cell_type": "markdown",
      "metadata": {
        "id": "oojvCE0RGQl9"
      },
      "source": [
        "Hmm, está francamente bien. Mejor que en el entrenamiento. Veamos el report y la matriz de confusión"
      ]
    },
    {
      "cell_type": "code",
      "execution_count": 178,
      "metadata": {
        "colab": {
          "base_uri": "https://localhost:8080/"
        },
        "id": "zj7LX52qGQl9",
        "outputId": "e747c577-c98f-4953-a63a-a8de8d1cd9e3"
      },
      "outputs": [
        {
          "output_type": "stream",
          "name": "stdout",
          "text": [
            "\u001b[1m132/132\u001b[0m \u001b[32m━━━━━━━━━━━━━━━━━━━━\u001b[0m\u001b[37m\u001b[0m \u001b[1m1s\u001b[0m 8ms/step\n"
          ]
        }
      ],
      "source": [
        "y_pred = [np.argmax(prediction) for prediction in  model.predict(X_test)]\n"
      ]
    },
    {
      "cell_type": "code",
      "execution_count": 179,
      "metadata": {
        "colab": {
          "base_uri": "https://localhost:8080/"
        },
        "id": "9BnbKm3nGQl9",
        "outputId": "d3cc1994-a046-4be2-9d2d-c13a286dbb9e"
      },
      "outputs": [
        {
          "output_type": "stream",
          "name": "stdout",
          "text": [
            "              precision    recall  f1-score   support\n",
            "\n",
            "           0       0.99      1.00      0.99       413\n",
            "           1       0.98      0.99      0.99       468\n",
            "           2       0.97      0.96      0.97       418\n",
            "           3       0.99      0.95      0.97       435\n",
            "           4       0.99      0.98      0.98       407\n",
            "           5       0.98      0.98      0.98       379\n",
            "           6       0.98      0.99      0.99       414\n",
            "           7       0.97      0.98      0.98       440\n",
            "           8       0.96      0.97      0.96       407\n",
            "           9       0.97      0.96      0.96       419\n",
            "\n",
            "    accuracy                           0.98      4200\n",
            "   macro avg       0.98      0.98      0.98      4200\n",
            "weighted avg       0.98      0.98      0.98      4200\n",
            "\n"
          ]
        }
      ],
      "source": [
        "print(classification_report(y_test,y_pred))"
      ]
    },
    {
      "cell_type": "code",
      "execution_count": 180,
      "metadata": {
        "colab": {
          "base_uri": "https://localhost:8080/",
          "height": 466
        },
        "id": "OJhS-wjFGQl9",
        "outputId": "5d64f879-ce14-4743-88fe-0e3a241f9388"
      },
      "outputs": [
        {
          "output_type": "execute_result",
          "data": {
            "text/plain": [
              "<sklearn.metrics._plot.confusion_matrix.ConfusionMatrixDisplay at 0x7df66d650280>"
            ]
          },
          "metadata": {},
          "execution_count": 180
        },
        {
          "output_type": "display_data",
          "data": {
            "text/plain": [
              "<Figure size 640x480 with 2 Axes>"
            ],
            "image/png": "[encoded data removed]"
          },
          "metadata": {}
        }
      ],
      "source": [
        "ConfusionMatrixDisplay.from_predictions(y_test, y_pred)"
      ]
    },
    {
      "cell_type": "markdown",
      "metadata": {
        "id": "cREKZ4uNGQl-"
      },
      "source": [
        "Espectacular a penas hay fallos."
      ]
    },
    {
      "cell_type": "markdown",
      "metadata": {
        "id": "3Yo3X0iHGQl-"
      },
      "source": [
        "En general no van a salir así, porque no tendrás imágenes tan centradas o tendremos que hacer un preprocesado primero para seleccionar los objetos o tiraremos de modelos más complejos como veremos en la unidad siguiente."
      ]
    }
  ],
  "metadata": {
    "kernelspec": {
      "display_name": "Python 3 (ipykernel)",
      "language": "python",
      "name": "python3"
    },
    "language_info": {
      "codemirror_mode": {
        "name": "ipython",
        "version": 3
      },
      "file_extension": ".py",
      "mimetype": "text/x-python",
      "name": "python",
      "nbconvert_exporter": "python",
      "pygments_lexer": "ipython3",
      "version": "3.11.8"
    },
    "colab": {
      "provenance": []
    }
  },
  "nbformat": 4,
  "nbformat_minor": 0
}